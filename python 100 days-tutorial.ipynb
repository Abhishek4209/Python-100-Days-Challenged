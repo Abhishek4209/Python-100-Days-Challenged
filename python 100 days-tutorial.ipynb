{
 "cells": [
  {
   "attachments": {},
   "cell_type": "markdown",
   "metadata": {},
   "source": [
    "# DAYS1:-\n",
    "# **INTRODUCTION OF PYTHON:-**\n",
    "  PYTHON IS A DYNAMICALY TYPED OBJECT ORIENTED PROGRAMING LANGUAGE WHICH IS DEVLOPED BY GUIDO VAN ROSSUM IN 1991.PYTHON IS AN INTERPRETED AND HIGH LEVEL PROGRAMING LANGUAGE\n",
    "\n",
    "## **DYNAMICALY TYPED:-**\n",
    "#### It means we can not define the DATA TYPE of variable in our code.\n",
    "## **FEATURES OF PYTHON:-**\n",
    "##### *PYTHON IS SIMPLE AND EASY TO UNDERSTAND.\n",
    "##### *IT IS INTERPRETED AND EASY PLATFORM-INDEPENDENT WHICH MAKES DEBUGGING VERY EASY.\n",
    "##### *PYTHON IS AN OPEN-SOURCE PROGRAMING LANGUAGE.\n",
    "##### *PYTHON PROVIDED VERY BIG LIBERARY SUPPORT.  SOME OF THE POPULAR LIBERARIES INCLUDE NUMPY,TENSORFLOW,SELENIUM,OPENCV,ETC.\n",
    "##### *IT IS POSSIBLE TO INTEGRATE OTHER PROGRAMING LANGUAGES WITHIN PYTHON.\n",
    "## **WHAT IS PYTHON USED FOR :-**\n",
    "##### *PYHTON IS USED IN DATA VISULIZATION TO CREATE PLOTS AND GRAPHICAL REPRESENTATIONS.\n",
    "##### *PYTHON HELP IN DATA ANALYTICS TO ANALYTICS TO ANALYSE AND UNDERSTAND RAW DATA FOR INSIGHTS AND TRENDS.\n",
    "##### *IT IS USED IN AI AND MACHINE LEARNING TO SIMULATE HUMAN BEHAVIOUR AND TO LEARN FROM PAST DATA WITHOUT HARD CODING.\n",
    "##### *IT IS USED TO CREATE WEB APPLICATIONS.\n",
    "##### *IT CAN BE USED TO HANDLE DATABASES.\n",
    "##### *IT IS USED IN BUSINESS AND ACCOUNTING TO PERFORM COMPLEX MATHMATECAL OPERATION ALONG WITH QUANTITATIVE AND QUALITATIVE ANLAYSIS.         "
   ]
  },
  {
   "cell_type": "code",
   "execution_count": null,
   "metadata": {},
   "outputs": [],
   "source": [
    "print(\"HELLOW WORLD\")\n",
    "print(3)\n",
    "print(\"i\")\n",
    "print(\"Abhishek\")\n",
    "print(type(4.0))"
   ]
  },
  {
   "attachments": {},
   "cell_type": "markdown",
   "metadata": {},
   "source": [
    "# DAYS3:-\n",
    "# **MODULES AND PIP:-**\n",
    "### MODULES IS LIKE A CODE LIBRARY WHICH CAN BE USED TO BORROW THE CODE WRITTEN BY SOMEBODY ELSE IN OUR PYTHON PROGRAM. THERE ARE TWO TYPES OF MODULES IN PYTHON :\n",
    "#### **1.BUILT IN MODULES:-**\n",
    "           THIS MODULES ARE READY TO IMPORT AND USE AND SHIPS WITH THE PYTHON INTERPRETER. \n",
    "           THERE IS NO NEED TO INSTALL SUCH MODULES EXPLICITY.\n",
    "#### **2.EXTERNAL MODULES-**\n",
    "           THESE MODULES ARE IMPORTED FROM A THIRD PARTY FILE OR CAN BE INSTALLED USING A DIFFRENT VERSION OF A SAME MODULE WITH TIME.\n",
    "\n",
    "### **THE PIP COMMAND:-**  \n",
    "           IT CAN BE USED AS PACKAGE MANAGER PIP TO INSTALL A PYTHON MODULE .LETS INSTALL A MODULE CALLED PANDAS USING THE FOLLOWING COMMOND               "
   ]
  },
  {
   "attachments": {},
   "cell_type": "markdown",
   "metadata": {},
   "source": [
    "# DAYS 4:-\n",
    "# **OUR FIRST PYTHON:-**"
   ]
  },
  {
   "cell_type": "code",
   "execution_count": null,
   "metadata": {},
   "outputs": [],
   "source": [
    "print(\"hellow world\", 4)\n",
    "print(12*12)\n",
    "print(3)\n",
    "print(\"Abhishek\")"
   ]
  },
  {
   "attachments": {},
   "cell_type": "markdown",
   "metadata": {},
   "source": [
    "# DAYS 5:-\n",
    "# **COMMENTS,ESCAPE SEQUENCE & PRINT IN PYTHON:-**\n",
    "# **Python Comments**\n",
    "#### A comment is a part of the coding file that the programmer does not want to execute, rather the programmer uses it to either explain a block of code or to avoid the execution of a specific part of code while testing.\n",
    "\n",
    "## **Single-Line Comments:-**\n",
    "To write a comment just add a ‘#’ at the start of the line.\n",
    "## Example 1\n",
    "#This is a 'Single-Line Comment'\n",
    "print(\"This is a print statement.\")\n",
    "Output:\n",
    "\n",
    "This is a print statement.\n",
    "# **Multi-Line Comments:-**\n",
    "#### To write multi-line comments you can use ‘#’ at each line or you can use the multiline string.\n",
    "\n",
    "Example 1: The use of ‘#’.\n",
    "\n",
    "#It will execute a block of code if a specified condition is true.\n",
    "#If the condition is false then it will execute another block of code.\n",
    "p = 7\n",
    "if (p > 5):\n",
    "    print(\"p is greater than 5.\")\n",
    "else:\n",
    "    print(\"p is not greater than 5.\")\n",
    "Output:\n",
    "\n",
    "p is greater than 5.\n",
    "# **Escape Sequence Characters:-**\n",
    "#### To insert characters that cannot be directly used in a string, we use an escape sequence character.\n",
    "\n",
    "#### An escape sequence character is a backslash \\ followed by the character you want to insert.\n",
    "\n",
    "#### An example of a character that cannot be directly used in a string is a double quote inside a string that is surrounded by double quotes:\n",
    "\n",
    "###### print(\"This doesnt \"execute\")\n",
    "###### print(\"This will \\\" execute\")\n",
    "More on Print statement\n",
    "#### The syntax of a print statement looks something like this:\n",
    "\n",
    "print(object(s), sep=separator, end=end, file=file, flush=flush)\n",
    "Other Parameters of Print Statement\n",
    "# **object(s): Any object, and as many as you like. Will be converted to string before printed**\n",
    "sep='separator': Specify how to separate the objects, if there is more than one. Default is ' '\n",
    "end='end': Specify what to print at the end. Default is '\\n' (line feed)\n",
    "file: An object with a write method. Default is sys.stdout\n"
   ]
  },
  {
   "cell_type": "code",
   "execution_count": null,
   "metadata": {},
   "outputs": [],
   "source": [
    "print(\"Hey I am a good boy\\n and my name is Abhishek\")\n",
    "# 100 Dasy of course is great for Python programmer.\n",
    "# '''\n",
    "# hi my name is Abhishek Upadhyay\n",
    "# But my problem  is, i want that There is no problem in my personal life.\n",
    "# but problem are automaticaly genrated in my life.  \n",
    "# '''\n",
    "# print(\"Hey I am \\\"a good boy\\\" \\nand \"my Followers are also good\")\n",
    "print(\"Hey\",3,4 ,sep=\"~\",end=\"100\\n\")\n",
    "print(\"Hellow World !\")\n",
    "print(\"My name is Abhishek Upadhyay\")"
   ]
  },
  {
   "attachments": {},
   "cell_type": "markdown",
   "metadata": {},
   "source": [
    "# DASY 6:-\n",
    "# **Variables and Data Types:-**\n",
    "## ***What is a variable?***\n",
    "#### Variable is like a container that holds data. Very similar to how our containers in kitchen holds sugar, salt etc Creating a variable is like creating a placeholder in memory and assigning it some value. In Python its as easy as writing:\n",
    "\n",
    "a = 1\n",
    "b = True\n",
    "c = \"Harry\"\n",
    "d = None\n",
    "## ***What is a Data Type?***\n",
    "#### Data type specifies the type of value a variable holds. This is required in programming to do various operations without causing an error.\n",
    "In python, we can print the type of any operator using type function:\n",
    "\n",
    "a = 1\n",
    "print(type(a))\n",
    "b = \"1\"\n",
    "print(type(b))\n",
    "By default, python provides the following built-in data types:\n",
    "\n",
    "### 1. **Numeric data: int, float, complex**\n",
    "int: 3, -8, 0\n",
    "float: 7.349, -9.0, 0.0000001\n",
    "complex: 6 + 2i\n",
    "### 2. **Text data: str**\n",
    "str: \"Hello World!!!\", \"Python Programming\"\n",
    "\n",
    "### 3. **Boolean data:**\n",
    "Boolean data consists of values True or False.\n",
    "\n",
    "### **4. Sequenced data: list, tuple**\n",
    "list: A list is an ordered collection of data with elements separated by a comma and enclosed within square brackets. Lists are mutable and can be modified after creation.\n",
    "\n",
    "Example:\n",
    "\n",
    "list1 = [8, 2.3, [-4, 5], [\"apple\", \"banana\"]]\n",
    "print(list1)\n",
    "Output:\n",
    "\n",
    "[8, 2.3, [-4, 5], ['apple', 'banana']]\n",
    "### **Tuple:-**\n",
    "##### A tuple is an ordered collection of data with elements separated by a comma and enclosed within parentheses. Tuples are immutable and can not be modified after creation.\n",
    "\n",
    "Example:\n",
    "\n",
    "tuple1 = ((\"parrot\", \"sparrow\"), (\"Lion\", \"Tiger\"))\n",
    "print(tuple1)\n",
    "Output:\n",
    "\n",
    "(('parrot', 'sparrow'), ('Lion', 'Tiger'))\n",
    "## 5. **Mapped data: dict**\n",
    "dict: A dictionary is an unordered collection of data containing a key:value pair. The key:value pairs are enclosed within curly brackets.\n",
    "\n",
    "Example:\n",
    "\n",
    "### dict1 = {\"name\":\"Sakshi\", \"age\":20, \"canVote\":True}\n",
    "### print(dict1)\n",
    "### Output:\n",
    "\n",
    "### {'name': 'Sakshi', 'age': 20, 'canVote': True}\n",
    "\n"
   ]
  },
  {
   "cell_type": "code",
   "execution_count": null,
   "metadata": {},
   "outputs": [],
   "source": [
    "dict={\"name\":\"Abhishek,Upadhyay\"}\n",
    "print(dict[\"name\"])"
   ]
  },
  {
   "cell_type": "code",
   "execution_count": null,
   "metadata": {},
   "outputs": [],
   "source": [
    "dic1={\"name\":\"Sakshi\",\"age\":\"20\"}\n",
    "print(type(dic1))\n",
    "a=complex(2,3)\n",
    "print(type(a))\n",
    "b=True\n",
    "print(type(b))\n",
    "s={1,2,3}\n",
    "print(type(s))\n",
    "d=None\n",
    "print(type(d))\n",
    "list=[1,2,3]\n",
    "print(type(list))\n",
    "tuple=(1,2,3)\n",
    "print(type(tuple))\n",
    "print(type(1))\n",
    "print(type(\"Abhis\"))"
   ]
  },
  {
   "cell_type": "code",
   "execution_count": null,
   "metadata": {},
   "outputs": [],
   "source": []
  },
  {
   "attachments": {},
   "cell_type": "markdown",
   "metadata": {},
   "source": [
    "# DAYS 7 & 8:-\n",
    "# **Exercise 1 - Create a Calculator:-**\n",
    "Create a calculator capable of performing addition, subtraction, multiplication and division operations on two numbers. Your program should format the output in a readable manner!\n",
    "# **☑️FLOOR DIVISION OPERATORS:-**\n",
    "'//' THIS USED FOR REMOVE THE FRACTIONAL VALUE IN DIVISION OPRESATON.\n"
   ]
  },
  {
   "cell_type": "code",
   "execution_count": null,
   "metadata": {},
   "outputs": [],
   "source": [
    "a=int(input(\"pls enter the first value: \"))\n",
    "b=int(input(\"pls enter the second value: \"))\n",
    "print(\"The addtion of given number is: \",a+b)\n",
    "print(\"The subtraction of given number is: \",a-b)\n",
    "print(\"The multiplication of given number is: \",a*b)\n",
    "print(\"The division of given number is: \",a/b)\n",
    "print(\"The floor division of given number is: \",a//b)"
   ]
  },
  {
   "attachments": {},
   "cell_type": "markdown",
   "metadata": {},
   "source": [
    "# DAYS 9:-\n",
    "# **Typecasting in python:-**\n",
    "### The conversion of one data type into the other data type is known as type casting in python or type conversion in python.\n",
    "\n",
    "Python supports a wide variety of functions or methods like: int(), float(), str(), ord(), hex(), oct(), tuple(), set(), list(), dict(), etc. for the type casting in python.\n",
    "\n",
    "# **Two Types of Typecasting:-**\n",
    "Explicit Conversion (Explicit type casting in python)\n",
    "Implicit Conversion (Implicit type casting in python).\n",
    "## **1) Explicit typecasting:-**\n",
    "The conversion of one data type into another data type, done via developer or programmer's intervention or manually as per the requirement, is known as explicit type conversion.\n",
    "\n",
    "#### It can be achieved with the help of Python’s built-in type conversion functions such as int(), float(), hex(), oct(), str(), etc .\n",
    "\n",
    "#### Example of explicit typecasting:\n",
    "#### string = \"15\"\n",
    "#### number = 7\n",
    "#### string_number = int(string) #throws an error if the string is not a valid integer\n",
    "sum= number + string_number\n",
    "print(\"The Sum of both the numbers is: \", sum)\n",
    "Output:\n",
    "The Sum of both the numbers is 22\n",
    "## **2) Implicit type casting:-**\n",
    "#### Data types in Python do not have the same level i.e. ordering of data types is not the same in Python. Some of the data types have higher-order, and some have lower order. While performing any operations on variables with different data types in Python, one of the variable's data types will be changed to the higher data type. According to the level, one data type is converted into other by the Python interpreter itself (automatically). This is called, implicit typecasting in python.\n",
    "\n",
    "### Python converts a smaller data type to a higher data type to prevent data loss.\n",
    "\n",
    "Example of implicit type casting:\n",
    "# Python automatically converts\n",
    "# a to int\n",
    "##### a = 7\n",
    "##### print(type(a))\n",
    " \n",
    "# **Python automatically converts b to float**\n",
    "b = 3.0\n",
    "print(type(b))\n",
    " \n",
    "# **Python automatically converts c to float as it is a float addition**\n",
    "c = a + b\n",
    "print(c)\n",
    "print(type(c))\n",
    "Ouput:\n",
    "<class 'int'>\n",
    "<class 'float'>\n",
    "10.0\n",
    "<class 'float'>\n",
    "\n"
   ]
  },
  {
   "cell_type": "code",
   "execution_count": null,
   "metadata": {},
   "outputs": [],
   "source": [
    "a=\"1\"\n",
    "b=\"2\"\n",
    "print(a+b)\n",
    "print(int(a)+int(b))"
   ]
  },
  {
   "attachments": {},
   "cell_type": "markdown",
   "metadata": {},
   "source": [
    "# DAYS 10:-\n",
    "#  **Taking User Input in python:-**\n",
    "##### In python, we can take user input directly by using input() function.This input function gives a return value as string/character hence we have to pass that into a variable\n",
    "\n",
    "# **Syntax:-**\n",
    "## variable=input()\n",
    "But input function returns the value as string. Hence we have to typecast them whenever required to another datatype.\n",
    "\n",
    "## Example:\n",
    "#### variable=int(input())\n",
    "#### variable=float(input())\n",
    "### We can also display a text using input function. This will make input() function take user input and display a message as well\n",
    "\n",
    " ## Example:\n",
    "#### a=input(\"Enter the name: \")\n",
    "#### print(a)\n",
    "## Output:\n",
    "#### Enter the name: Harry\n",
    "#### Harry\n",
    "\n"
   ]
  },
  {
   "cell_type": "code",
   "execution_count": null,
   "metadata": {},
   "outputs": [],
   "source": [
    "name=input(\"Pls enter the name of person:\")\n",
    "print(name)"
   ]
  },
  {
   "cell_type": "code",
   "execution_count": null,
   "metadata": {},
   "outputs": [],
   "source": [
    "Age=int(input(\"pls enter your age \"))\n",
    "print(Age)\n"
   ]
  },
  {
   "attachments": {},
   "cell_type": "markdown",
   "metadata": {},
   "source": [
    "# DAYS 11:-\n",
    "## **STRINGS:-**\n",
    "##### In python, anything that you enclose between single or double quotation marks is considered a string. A string is essentially a sequence or array of textual data. Strings are used when working with Unicode characters.\n",
    "\n",
    "Example\n",
    "name = \"Harry\"\n",
    "print(\"Hello, \" + name)\n",
    "Output\n",
    "Hello, Harry\n",
    "\n",
    "## **Note:-**\n",
    " ##### It does not matter whether you enclose your strings in single or double quotes, the output remains the same.\n",
    "\n",
    "Sometimes, the user might need to put quotation marks in between the strings. Example, consider the sentence: He said, “I want to eat an apple”.\n",
    "\n",
    "How will you print this statement in python?: He said, \"I want to eat an apple\". We will definitely use single quotes for our convenience\n",
    "\n",
    "print('He said, \"I want to eat an apple\".')\n",
    "Multiline Strings\n",
    "If our string has multiple lines, we can create them like this:\n",
    "\n",
    "a = \"\"\"Lorem ipsum dolor sit amet,\n",
    "consectetur adipiscing elit,\n",
    "sed do eiusmod tempor incididunt\n",
    "ut labore et dolore magna aliqua.\"\"\"\n",
    "print(a)\n",
    "Accessing Characters of a String\n",
    "In Python, string is like an array of characters. We can access parts of string by using its index which starts from 0.\n",
    "Square brackets can be used to access elements of the string.\n",
    "\n",
    "print(name[0])\n",
    "print(name[1])\n",
    "Looping through the string\n",
    "We can loop through strings using a for loop like this:\n",
    "\n",
    "## **for character in name:-**\n",
    "### In python , the charecter is just like sequence of array\n",
    "    print(character)\n",
    "Above code prints all the characters in the string name one by one!\n",
    "\n"
   ]
  },
  {
   "cell_type": "code",
   "execution_count": null,
   "metadata": {},
   "outputs": [],
   "source": [
    "name=\"Abhishek\"\n",
    "friend=\"Vishal Mishra\"\n",
    "another_friend=\"Akash Dixit\"\n",
    "apple=\"he wants to \"\n",
    "print(\"Hellow,\", name,friend,another_friend)\n",
    "greet='''Hi Abhishek,# This can be used when we exicute the  more line charecter in a given single variable then we perform this operation. \n",
    "I am your personal Assistance manager.''' \n",
    "print(greet)\n",
    "print(name[0])# This is used for the print the 5th index charecter value.\n",
    "for i in range(len(name)):\n",
    "    print(name[i],end=\"\")"
   ]
  },
  {
   "attachments": {},
   "cell_type": "markdown",
   "metadata": {},
   "source": [
    "# DAYS 12:-\n",
    "## **String Slicing & Operations on String:-**\n",
    "### **Length of a String:-**\n",
    "##### We can find the length of a string using len() function.\n",
    "\n",
    "Example:\n",
    "fruit = \"Mango\"\n",
    "len1 = len(fruit)\n",
    "print(\"Mango is a\", len1, \"letter word.\")\n",
    "Output:\n",
    "Mango is a 5 letter word.\n",
    "\n",
    "## **String as an array:-**\n",
    "###### A string is essentially a sequence of characters also called an array. Thus we can access the elements of this array.\n",
    "\n",
    "Example:\n",
    "pie = \"ApplePie\"\n",
    "print(pie[:5])\n",
    "print(pie[6])\t#returns character at specified index\n",
    "Output:\n",
    "Apple\n",
    "i\n",
    "### Note:- This method of specifying the start and end index to specify a part of a string is called slicing.\n",
    "\n",
    "Slicing Example:\n",
    "pie = \"ApplePie\"\n",
    "print(pie[:5])      #Slicing from Start\n",
    "print(pie[5:])      #Slicing till End\n",
    "print(pie[2:6])     #Slicing in between\n",
    "print(pie[-8:])     #Slicing using negative index\n",
    "Output:\n",
    "Apple\n",
    "Pie\n",
    "pleP\n",
    "ApplePie\n",
    "## **Loop through a String:-**\n",
    "###### Strings are arrays and arrays are iterable. Thus we can loop through strings.\n",
    "\n",
    "Example:\n",
    "alphabets = \"ABCDE\"\n",
    "for i in alphabets:\n",
    "    print(i)\n",
    "Output:\n",
    "A\n",
    "B\n",
    "C\n",
    "D\n",
    "E"
   ]
  },
  {
   "cell_type": "code",
   "execution_count": null,
   "metadata": {},
   "outputs": [],
   "source": [
    "Name=\"Abhishek Upadhyay\"      \n",
    "print(Name[0:4])\n",
    "print(Name[:5])\n",
    "print(Name[0:-3])# This is work as total index in word -3\n",
    "print(Name[-4:-2])"
   ]
  },
  {
   "attachments": {},
   "cell_type": "markdown",
   "metadata": {},
   "source": [
    "# DAYS 13:-\n",
    "## **String methods:-**\n",
    "### Python provides a set of built-in methods that we can use to alter and modify the strings.\n",
    "\n",
    "## **upper():-**\n",
    "##### The upper() method converts a string to upper case.\n",
    "\n",
    "Example:\n",
    "str1 = \"AbcDEfghIJ\"\n",
    "print(str1.upper())\n",
    "Output:\n",
    "ABCDEFGHIJ\n",
    "## **lower():-**\n",
    "##### The lower() method converts a string to lower case.\n",
    "\n",
    "Example:\n",
    "str1 = \"AbcDEfghIJ\"\n",
    "print(str1.lower())\n",
    "Output:\n",
    "abcdefghij\n",
    "## **strip():-**\n",
    "##### The strip() method removes any white spaces before and after the string.\n",
    "\n",
    "Example:\n",
    "str2 = \" Silver Spoon \"\n",
    "print(str2.strip)\n",
    "Output:\n",
    "Silver Spoon\n",
    "## **rstrip():-**\n",
    "##### the rstrip() removes any trailing characters. Example:\n",
    "\n",
    "str3 = \"Hello !!!\"\n",
    "print(str3.rstrip(\"!\"))\n",
    "Output:\n",
    "Hello\n",
    "## **replace():-**\n",
    "##### The replace() method replaces all occurences of a string with another string. Example:\n",
    "\n",
    "str2 = \"Silver Spoon\"\n",
    "print(str2.replace(\"Sp\", \"M\"))\n",
    "Output:\n",
    "Silver Moon\n",
    "## **split():-**\n",
    "#### The split() method splits the given string at the specified instance and returns the separated strings as list items.\n",
    "\n",
    "Example:\n",
    "str2 = \"Silver Spoon\"\n",
    "print(str2.split(\" \"))      #Splits the string at the whitespace \" \".\n",
    "Output:\n",
    "['Silver', 'Spoon']\n",
    "There are various other string methods that we can use to modify our strings.\n",
    "## **capitalize():-**\n",
    "##### The capitalize() method turns only the first character of the string to uppercase and the rest other characters of the string are turned to lowercase. The string has no effect if the first character is already uppercase.\n",
    "\n",
    "Example:\n",
    "str1 = \"hello\"\n",
    "capStr1 = str1.capitalize()\n",
    "print(capStr1)\n",
    "str2 = \"hello WorlD\"\n",
    "capStr2 = str2.capitalize()\n",
    "print(capStr2)\n",
    "Output:\n",
    "Hello\n",
    "Hello world\n",
    "## **center():-**\n",
    "#### The center() method aligns the string to the center as per the parameters given by the user.\n",
    "\n",
    "Example:\n",
    "str1 = \"Welcome to the Console!!!\"\n",
    "print(str1.center(50))\n",
    "Output:\n",
    "            Welcome to the Console!!!\n",
    "We can also provide padding character. It will fill the rest of the fill characters provided by the user.\n",
    "\n",
    "Example:\n",
    "str1 = \"Welcome to the Console!!!\"\n",
    "print(str1.center(50, \".\"))\n",
    "Output:\n",
    "............Welcome to the Console!!!.............\n",
    "count() :\n",
    "The count() method returns the number of times the given value has occurred within the given string.\n",
    "\n",
    "Example:\n",
    "str2 = \"Abracadabra\"\n",
    "countStr = str2.count(\"a\")\n",
    "print(countStr)\n",
    "Output:\n",
    "4\n",
    "## **endswith():-**\n",
    "#### The endswith() method checks if the string ends with a given value. If yes then return True, else return False.\n",
    "\n",
    "Example :\n",
    "str1 = \"Welcome to the Console !!!\"\n",
    "print(str1.endswith(\"!!!\"))\n",
    "Output:\n",
    "True\n",
    "#### We can even also check for a value in-between the string by providing start and end index positions.\n",
    "\n",
    "Example:\n",
    "str1 = \"Welcome to the Console !!!\"\n",
    "print(str1.endswith(\"to\", 4, 10))\n",
    "Output:\n",
    "True\n",
    "## **find():-**\n",
    "##### The find() method searches for the first occurrence of the given value and returns the index where it is present. If given value is absent from the string then return -1.\n",
    "\n",
    "Example:\n",
    "str1 = \"He's name is Dan. He is an honest man.\"\n",
    "print(str1.find(\"is\"))\n",
    "Output:\n",
    "10\n",
    "#### As we can see, this method is somewhat similar to the index() method. The major difference being that index() raises an exception if value is absent whereas find() does not.\n",
    "\n",
    "Example:\n",
    "str1 = \"He's name is Dan. He is an honest man.\"\n",
    "print(str1.find(\"Daniel\"))\n",
    "Output:\n",
    "-1\n",
    "## **index():-**\n",
    "##### The index() method searches for the first occurrence of the given value and returns the index where it is present. If given value is absent from the string then raise an exception.\n",
    "\n",
    "Example:\n",
    "str1 = \"He's name is Dan. Dan is an honest man.\"\n",
    "print(str1.index(\"Dan\"))\n",
    "Output:\n",
    "13\n",
    "As we can see, this method is somewhat similar to the find() method. The major difference being that index() raises an exception if value is absent whereas find() does not.\n",
    "\n",
    "Example:\n",
    "str1 = \"He's name is Dan. Dan is an honest man.\"\n",
    "print(str1.index(\"Daniel\"))\n",
    "Output:\n",
    "ValueError: substring not found\n",
    "## **isalnum():-**\n",
    "##### The isalnum() method returns True only if the entire string only consists of A-Z, a-z, 0-9. If any other characters or punctuations are present, then it returns False.\n",
    "\n",
    "Example 1:\n",
    "str1 = \"WelcomeToTheConsole\"\n",
    "print(str1.isalnum())\n",
    "Output:\n",
    "\n",
    "True\n",
    "## **isalpha():-**\n",
    "##### The isalnum() method returns True only if the entire string only consists of A-Z, a-z. If any other characters or punctuations or numbers(0-9) are present, then it returns False.\n",
    "\n",
    "Example :\n",
    "str1 = \"Welcome\"\n",
    "print(str1.isalpha())\n",
    "Output:\n",
    "True\n",
    "## **islower():-**\n",
    "##### The islower() method returns True if all the characters in the string are lower case, else it returns False.\n",
    "\n",
    "Example:\n",
    "str1 = \"hello world\"\n",
    "print(str1.islower())\n",
    "Output:\n",
    "True\n",
    "## **isprintable():-**\n",
    "##### The isprintable() method returns True if all the values within the given string are printable, if not, then return False.\n",
    "\n",
    "Example :\n",
    "str1 = \"We wish you a Merry Christmas\"\n",
    "print(str1.isprintable())\n",
    "Output:\n",
    "True\n",
    "## **isspace():-**\n",
    "#### The isspace() method returns True only and only if the string contains white spaces, else returns False.\n",
    "\n",
    "Example:\n",
    "str1 = \"        \"       #using Spacebar\n",
    "print(str1.isspace())\n",
    "str2 = \"        \"       #using Tab\n",
    "print(str2.isspace())\n",
    "Output:\n",
    "True\n",
    "True\n",
    "## **istitle():-**\n",
    "#### The istitile() returns True only if the first letter of each word of the string is capitalized, else it returns False.\n",
    "\n",
    "Example:\n",
    "str1 = \"World Health Organization\" \n",
    "print(str1.istitle())\n",
    "Output:\n",
    "True\n",
    "Example:\n",
    "str2 = \"To kill a Mocking bird\"\n",
    "print(str2.istitle())\n",
    "Output:\n",
    "False\n",
    "## **isupper():-**\n",
    "#### The isupper() method returns True if all the characters in the string are upper case, else it returns False.\n",
    "\n",
    "Example :\n",
    "str1 = \"WORLD HEALTH ORGANIZATION\" \n",
    "print(str1.isupper())\n",
    "Output:\n",
    "True\n",
    "## **startswith():-**\n",
    "#### The endswith() method checks if the string starts with a given value. If yes then return True, else return False.\n",
    "\n",
    "Example :\n",
    "str1 = \"Python is a Interpreted Language\" \n",
    "print(str1.startswith(\"Python\"))\n",
    "Output:\n",
    "True\n",
    "## **swapcase():-**\n",
    "### The swapcase() method changes the character casing of the string. Upper case are converted to lower case and lower case to upper case.\n",
    "\n",
    "Example:\n",
    "str1 = \"Python is a Interpreted Language\" \n",
    "print(str1.swapcase())\n",
    "Output:\n",
    "## **PYTHON IS A INTERPRETED LANGUAGE**\n",
    "## **title():-**\n",
    "##### The title() method capitalizes each letter of the word within the string.\n",
    "\n",
    "Example:\n",
    "str1 = \"He's name is Dan. Dan is an honest man.\"\n",
    "print(str1.title())\n",
    "Output:\n",
    "He'S Name Is Dan. Dan Is An Honest Man"
   ]
  },
  {
   "cell_type": "code",
   "execution_count": null,
   "metadata": {},
   "outputs": [],
   "source": [
    "# Strings are imutable.\n",
    "name=\"Abhishek Rishabh Sunder\"\n",
    "print(len(name))\n",
    "print(name.upper())\n",
    "print(name.lower())\n",
    "print(name.replace(\"Abhishek\",\"Upadhyay\"))\n",
    "print(name.split(\" \"))\n",
    "a=\"hi my name is abhishek upadhyay\"    \n",
    "print(a.capitalize()) \n",
    "print(a.find(\"abhishek upadhyay\"))\n",
    "print()"
   ]
  },
  {
   "attachments": {},
   "cell_type": "markdown",
   "metadata": {},
   "source": [
    "# DASY 14:-\n",
    "## **if-else Statements:-**\n",
    "#### Sometimes the programmer needs to check the evaluation of certain expression(s), whether the expression(s) evaluate to True or False. If the expression evaluates to False, then the program execution follows a different path than it would have if the expression had evaluated to True.\n",
    "\n",
    "#### Based on this, the conditional statements are further classified into  following types:\n",
    "\n",
    "## if\n",
    "## if-else\n",
    "## if-else-elif\n",
    "## nested if-else-elif.\n",
    "## An if……else statement evaluates like this:-\n",
    "#### if the expression evaluates True:\n",
    "### Execute the block of code inside if statement. After execution return to the code out of the if……else block.\\\n",
    "\n",
    "### if the expression evaluates False:\n",
    "#### Execute the block of code inside else statement. After execution return to the code out of the if……else block.\n",
    "\n",
    "Example:\n",
    "applePrice = 210\n",
    "budget = 200\n",
    "if (applePrice <= budget):\n",
    "    print(\"Alexa, add 1 kg Apples to the cart.\")\n",
    "else:\n",
    "    print(\"Alexa, do not add Apples to the cart.\")\n",
    "Output:\n",
    "Alexa, do not add Apples to the cart.\n",
    "## **elif Statements:-**\n",
    "#### Sometimes, the programmer may want to evaluate more than one condition, this can be done using an elif statement.\n",
    "\n",
    "### Working of an elif statement\n",
    "#### Execute the block of code inside if statement if the initial expression evaluates to True. After execution return to the code out of the if block.\n",
    "\n",
    "##### Execute the block of code inside the first elif statement if the expression inside it evaluates True. After execution return to the code out of the if block.\n",
    "\n",
    "Execute the block of code inside the second elif statement if the expression inside it evaluates True. After execution return to the code out of the if block.\n",
    ".\n",
    ".\n",
    ".\n",
    "Execute the block of code inside the nth elif statement if the expression inside it evaluates True. After execution return to the code out of the if block.\n",
    "\n",
    "Execute the block of code inside else statement if none of the expression evaluates to True. After execution return to the code out of the if block.\n",
    "\n",
    "Example:\n",
    "num = 0\n",
    "if (num < 0):\n",
    "    print(\"Number is negative.\")\n",
    "elif (num == 0):\n",
    "    print(\"Number is Zero.\")\n",
    "else:\n",
    "    print(\"Number is positive.\")\n",
    "Output:\n",
    "Number is Zero.\n",
    "## **Nested if statements:-**\n",
    "### We can use if, if-else, elif statements inside other if statements as well.\n",
    "Example:\n",
    "\n",
    "num = 18\n",
    "if (num < 0):\n",
    "    print(\"Number is negative.\")\n",
    "elif (num > 0):\n",
    "    if (num <= 10):\n",
    "        print(\"Number is between 1-10\")\n",
    "    elif (num > 10 and num <= 20):\n",
    "        print(\"Number is between 11-20\")\n",
    "    else:\n",
    "        print(\"Number is greater than 20\")\n",
    "else:\n",
    "    print(\"Number is zero\")\n",
    "Output:\n",
    "\n",
    "Number is between 11-20"
   ]
  },
  {
   "cell_type": "code",
   "execution_count": null,
   "metadata": {},
   "outputs": [],
   "source": [
    "a=int(input(\"pls enter your age\"))\n",
    "if(a>=18):\n",
    "    print(\"You are eligible for voaing\")\n",
    "else:\n",
    "    print(\"you are not eligible for voating\")"
   ]
  },
  {
   "cell_type": "code",
   "execution_count": null,
   "metadata": {},
   "outputs": [],
   "source": [
    "a=int(input(\"pls enter the value\"))\n",
    "b=int(input(\"pls enter the value\"))\n",
    "c=int(input(\"pls enter the value\"))\n",
    "if(a>b):\n",
    "    if(a>c):\n",
    "        print(\"a is largest\")\n",
    "    else:\n",
    "        print(\"c is largest\")\n",
    "elif(b>c):\n",
    "    print(\"b is largest\")\n",
    "else:\n",
    "    print(\"c is largest\")"
   ]
  },
  {
   "attachments": {},
   "cell_type": "markdown",
   "metadata": {},
   "source": [
    "# DASY 15:-\n",
    "## **Excersice 2: Good Morning Sir**\n",
    "Create a python program capable of greeting you with Good Morning, Good Afternoon and Good Evening. Your program should use time module to get the current hour. Here is a sample program and documentation link for you:"
   ]
  },
  {
   "cell_type": "code",
   "execution_count": null,
   "metadata": {},
   "outputs": [],
   "source": [
    "import time\n",
    "timestamp=time.strftime(\"%H:%M:%S\")\n",
    "print(timestamp)\n"
   ]
  },
  {
   "attachments": {},
   "cell_type": "markdown",
   "metadata": {},
   "source": [
    "DaYS 16:-\n",
    "## **Match Case Statements:-**\n",
    "#### To implement switch-case like characteristics very similar to if-else functionality, we use a match case in python. If you are coming from a C, C++ or Java like language, you must have heard of switch-case statements. If this is your first language, dont worry as I will tell you everything you need to know about match case statements in this video!\n",
    "\n",
    "#### A match statement will compare a given variable’s value to different shapes, also referred to as the pattern. The main idea is to keep on comparing the variable with all the present patterns until it fits into one.\n",
    "\n",
    "### The match case consists of three main entities :\n",
    "\n",
    "#### The match keyword\n",
    "#### One or more case clauses\n",
    "#### Expression for each case\n",
    "##### The case clause consists of a pattern to be matched to the variable, a condition to be evaluated if the pattern matches, and a set of statements to be executed if the pattern matches.\n",
    "\n",
    "### **Syntax:-**\n",
    "##### match variable_name:\n",
    "######            case ‘pattern1’ : //statement1\n",
    "######            case ‘pattern2’ : //statement2\n",
    "######            …            \n",
    "######            case ‘pattern n’ : //statement n\n",
    "#### Example:\n",
    "x = 4\n",
    "#### x is the variable to match\n",
    "###### \n",
    "match x:\n",
    "    # if x is 0\n",
    "    case 0:\n",
    "        print(\"x is zero\")\n",
    "    # case with if-condition\n",
    "    case 4 if x % 2 == 0:\n",
    "        print(\"x % 2 == 0 and case is 4\")\n",
    "    # Empty case with if-condition\n",
    "    case _ if x < 10:\n",
    "        print(\"x is < 10\")\n",
    "    # default case(will only be matched if the above cases were not matched)\n",
    "    # so it is basically just an else:\n",
    "    case _:\n",
    "        print(x)\n",
    "Output:\n",
    "x % 2 == 0 and case is 4"
   ]
  },
  {
   "cell_type": "code",
   "execution_count": null,
   "metadata": {},
   "outputs": [],
   "source": [
    "x=int(input(\"pls enter the value of x\"))\n",
    "match x:\n",
    "    case 0:\n",
    "        if(x==0):\n",
    "          print(\"x is zero\")\n",
    "    case 1:\n",
    "      if(x==1):\n",
    "        print(\"x is one\")\n",
    "    case 2:\n",
    "        if(x==2):\n",
    "          print(\"x is two\")\n",
    "    case _:\n",
    "        print(\"bye\") "
   ]
  },
  {
   "attachments": {},
   "cell_type": "markdown",
   "metadata": {},
   "source": [
    "# DAYS 17:-\n",
    "## **Introduction to Loops:-**\n",
    "### Sometimes a programmer wants to execute a group of statements a certain number of times. This can be done using loops. Based on this loops are further classified into following main types;\n",
    "\n",
    "## 1.for loop\n",
    "## 2.while loop\n",
    "## **The for Loop**\n",
    "#### for loops can iterate over a sequence of iterable objects in python. Iterating over a sequence is nothing but iterating over strings, lists, tuples, sets and dictionaries.\n",
    "\n",
    "###### Example: iterating over a string:\n",
    "name = 'Abhishek'\n",
    "for i in name:\n",
    "    print(i, end=\", \")\n",
    "Output:\n",
    "A, b, h, i, s, h, e, k,\n",
    "\n",
    "###### Example: iterating over a list:\n",
    "colors = [\"Red\", \"Green\", \"Blue\", \"Yellow\"]\n",
    "for x in colors:\n",
    "    print(x)\n",
    "Output:\n",
    "Red\n",
    "Green\n",
    "Blue\n",
    "Yellow\n",
    "\n",
    "#### Similarly, we can use loops for lists, sets and dictionaries.\n",
    "\n",
    "### **range():-**\n",
    "##### What if we do not want to iterate over a sequence? What if we want to use for loop for a specific number of times?\n",
    "\n",
    "Here, we can use the range() function.\n",
    "\n",
    "##### Example:\n",
    "for k in range(5):\n",
    "    print(k)\n",
    "Output:\n",
    "0\n",
    "1\n",
    "2\n",
    "3\n",
    "4\n",
    "Here, we can see that the loop starts from 0 by default and increments at each iteration.\n",
    "\n",
    "But we can also loop over a specific range.\n",
    "\n",
    "###### Example:\n",
    "for k in range(4,9):\n",
    "    print(k)\n",
    "Output:\n",
    "4\n",
    "5\n",
    "6\n",
    "7\n",
    "8\n",
    "\n"
   ]
  },
  {
   "cell_type": "code",
   "execution_count": null,
   "metadata": {},
   "outputs": [],
   "source": [
    "name=\"Abhishek\"\n",
    "for i in name:\n",
    "    print(name)\n",
    "for i in range(1,11):\n",
    "    print(9,\"x\",i,\"=\",9*i)\n"
   ]
  },
  {
   "attachments": {},
   "cell_type": "markdown",
   "metadata": {},
   "source": [
    "# **for i in range(start,stop,steps):**"
   ]
  },
  {
   "cell_type": "code",
   "execution_count": null,
   "metadata": {},
   "outputs": [],
   "source": [
    "for i in range(1,5,3):\n",
    "    print(i)"
   ]
  },
  {
   "attachments": {},
   "cell_type": "markdown",
   "metadata": {},
   "source": [
    "# DAYS 18:-\n",
    "##  **Python while Loop:-**\n",
    "#### As the name suggests, while loops execute statements while the condition is True. As soon as the condition becomes False, the interpreter comes out of the while loop."
   ]
  },
  {
   "attachments": {},
   "cell_type": "markdown",
   "metadata": {},
   "source": [
    "## **Else with While Loop:-**\n",
    "##### We can even use the else statement with the while loop. Essentially what the else statement does is that as soon as the while loop condition becomes False, the interpreter comes out of the while loop and the else statement is executed."
   ]
  },
  {
   "attachments": {},
   "cell_type": "markdown",
   "metadata": {},
   "source": [
    "## **Do-While loop in python:-**\n",
    "#### do..while is a loop in which a set of instructions will execute at least once (irrespective of the condition) and then the repetition of loop's body will depend on the condition passed at the end of the while loop. It is also known as an exit-controlled loop.\n",
    "\n",
    "### How to emulate do while loop in python?\n",
    "#### To create a do while loop in Python, you need to modify the while loop a bit in order to get similar behavior to a do while loop.\n",
    "\n",
    "#### The most common technique to emulate a do-while loop in Python is to use an infinite while loop with a break statement wrapped in an if statement that checks a given condition and breaks the iteration if that condition becomes true:"
   ]
  },
  {
   "attachments": {},
   "cell_type": "markdown",
   "metadata": {},
   "source": [
    "### Explanation\n",
    "##### This loop uses True as its formal condition. This trick turns the loop into an infinite loop. Before the conditional statement, the loop runs all the required processing and updates the breaking condition. If this condition evaluates to true, then the break statement breaks out of the loop, and the program execution continues its normal path."
   ]
  },
  {
   "cell_type": "code",
   "execution_count": null,
   "metadata": {},
   "outputs": [],
   "source": [
    "i=0\n",
    "while(i<=10):\n",
    "    print(i)\n",
    "    i=i+1"
   ]
  },
  {
   "attachments": {},
   "cell_type": "markdown",
   "metadata": {},
   "source": [
    "# **DAYS 19:-**\n",
    "## **break statement:-**\n",
    "##### The break statement enables a program to skip over a part of the code. A break statement terminates the very loop it lies within."
   ]
  },
  {
   "cell_type": "code",
   "execution_count": null,
   "metadata": {},
   "outputs": [],
   "source": [
    "for i in range(12):\n",
    "    if(i==10):\n",
    "      break\n",
    "    print(\"5 x\",i+1,\"=\",5*(i+1))\n",
    "    "
   ]
  },
  {
   "attachments": {},
   "cell_type": "markdown",
   "metadata": {},
   "source": [
    "# **Emulate ethe Do While Loop:-**\n",
    "How to  create do while loop in pyhton programing."
   ]
  },
  {
   "cell_type": "code",
   "execution_count": null,
   "metadata": {},
   "outputs": [],
   "source": [
    "i=0\n",
    "while True:\n",
    "    print(i)\n",
    "    i=i+1\n",
    "    if(i%100==0):\n",
    "        break"
   ]
  },
  {
   "attachments": {},
   "cell_type": "markdown",
   "metadata": {},
   "source": [
    "## **Continue Statement:-**\n",
    "##### The continue statement skips the rest of the loop statements and causes the next iteration to occur.\n",
    "\n"
   ]
  },
  {
   "cell_type": "code",
   "execution_count": null,
   "metadata": {},
   "outputs": [],
   "source": [
    "for i in range(12):\n",
    "    if(i==9):\n",
    "        print(\"Skip the iteration\") \n",
    "        continue\n",
    "    print(\"5 x\",i+1,\"=\",5*(i+1))"
   ]
  },
  {
   "attachments": {},
   "cell_type": "markdown",
   "metadata": {},
   "source": [
    "# DAYS 20:-\n",
    "## **Python Functions:-**\n",
    "##### A function is a block of code that performs a specific task whenever it is called. In bigger programs, where we have large amounts of code, it is advisable to create or use existing functions that make the program flow organized and neat.\n",
    "\n",
    "## There are two types of functions:\n",
    "\n",
    "### 1)Built-in functions\n",
    "### 2)User-defined functions\n",
    "### 1)**Built-in functions:-**\n",
    "##### These functions are defined and pre-coded in python. Some examples of built-in functions are as follows:\n",
    "\n",
    "###### min(), max(), len(), sum(), type(), range(), dict(), list(), tuple(), set(), print(), etc.\n",
    "\n",
    "### **2)User-defined functions:-**\n",
    "###### We can create functions to perform specific tasks as per our needs. Such functions are called user-defined functions.\n",
    "\n",
    "#### **Syntax:-**\n",
    "##### def function_name(parameters):\n",
    "##### pass\n",
    "##### # Code and Statements\n",
    "###### Create a function using the def keyword, followed by a function name, followed by a paranthesis (()) and a colon(:).\n",
    "###### Any parameters and arguments should be placed within the parentheses.\n",
    "###### Rules to naming function are similar to that of naming variables.\n",
    "###### Any statements and other code within the function should be indented.\n",
    "### **Calling a function:-**\n",
    "###### We call a function by giving the function name, followed by parameters (if any) in the parenthesis."
   ]
  },
  {
   "cell_type": "code",
   "execution_count": null,
   "metadata": {},
   "outputs": [],
   "source": [
    "def prime_number(n):\n",
    "    for i in range(1,n):\n",
    "        if(n%i==0):\n",
    "            a==0\n",
    "        else:\n",
    "            a==1\n",
    "    if(a==0):\n",
    "        print(f\"{n}number is not a prime number\")\n",
    "    elif(a==1):\n",
    "        print(f\"{n} is a prime number\")\n",
    "prime_number(12)"
   ]
  },
  {
   "cell_type": "code",
   "execution_count": null,
   "metadata": {},
   "outputs": [],
   "source": [
    "def calculateGmean(a,b):\n",
    "    mean=(a*b)/(a+b)  \n",
    "    print(mean)\n",
    "    if(a>b):\n",
    "        print(\"a is largest\")\n",
    "    else:\n",
    "        print(\"b is largest\")\n",
    "calculateGmean(10,12)"
   ]
  },
  {
   "cell_type": "code",
   "execution_count": null,
   "metadata": {},
   "outputs": [],
   "source": [
    "def names(name):\n",
    "  pass"
   ]
  },
  {
   "attachments": {},
   "cell_type": "markdown",
   "metadata": {},
   "source": [
    "# DAYS 21:-\n",
    "## **Function Arguments and return statement:-**\n",
    "#### There are four types of arguments that we can provide in a function:\n",
    "\n",
    "### 1.Default Arguments\n",
    "### 2.Keyword Arguments\n",
    "### 3.Variable length Arguments\n",
    "### 4.Required Arguments\n",
    "## **Default arguments:-**\n",
    "### We can provide a default value while creating a function. This way the function assumes a default value even if a value is not provided in the function call for that argument."
   ]
  },
  {
   "cell_type": "code",
   "execution_count": null,
   "metadata": {},
   "outputs": [],
   "source": [
    "def avg(a=10,b=20):\n",
    "    print(\"The avg of given number is\",(a+b)/2)\n",
    "avg()"
   ]
  },
  {
   "attachments": {},
   "cell_type": "markdown",
   "metadata": {},
   "source": [
    "## **Keyword arguments:-**\n",
    "### We can provide arguments with key = value, this way the interpreter recognizes the arguments by the parameter name. Hence, the the order in which the arguments are passed does not matter."
   ]
  },
  {
   "cell_type": "code",
   "execution_count": null,
   "metadata": {},
   "outputs": [],
   "source": [
    "def avg(a,b):\n",
    "    print(\"The avg of given numbr is\",(a+b)/2)\n",
    "avg(b=10,a=12)"
   ]
  },
  {
   "attachments": {},
   "cell_type": "markdown",
   "metadata": {},
   "source": [
    "## **Required arguments:-**\n",
    "#### In case we don’t pass the arguments with a key = value syntax, then it is necessary to pass the arguments in the correct positional order and the number of arguments passed should match with actual function definition."
   ]
  },
  {
   "cell_type": "code",
   "execution_count": null,
   "metadata": {},
   "outputs": [],
   "source": [
    "def avg(a,b,c=1):\n",
    "    print(\"The avg of given number is\",(a+b+c)/2)\n",
    "avg(12,13,14)"
   ]
  },
  {
   "attachments": {},
   "cell_type": "markdown",
   "metadata": {},
   "source": [
    "## **Variable-length arguments:-**\n",
    "#### Sometimes we may need to pass more arguments than those defined in the actual function. This can be done using variable-length arguments.\n",
    "\n",
    "### There are two ways to achieve this:-\n",
    "\n",
    "### **Arbitrary Arguments:-**\n",
    "##### While creating a function, pass a * before the parameter name while defining the function. The function accesses the arguments by processing them in the form of tuple."
   ]
  },
  {
   "cell_type": "code",
   "execution_count": null,
   "metadata": {},
   "outputs": [],
   "source": [
    "def avg(*numbers):\n",
    "    print(type(numbers))\n",
    "    sum=0\n",
    "    for i in numbers:\n",
    "        sum=sum+i\n",
    "    print(\"The avg of given number is\",sum/len(numbers))\n",
    "avg(1,2,4,5,6,7)"
   ]
  },
  {
   "attachments": {},
   "cell_type": "markdown",
   "metadata": {},
   "source": [
    "### **Keyword Arbitrary Arguments:-**\n",
    "##### While creating a function, pass a * before the parameter name while defining the function. The function accesses the arguments by processing them in the form of dictionary."
   ]
  },
  {
   "cell_type": "code",
   "execution_count": null,
   "metadata": {},
   "outputs": [],
   "source": []
  },
  {
   "attachments": {},
   "cell_type": "markdown",
   "metadata": {},
   "source": [
    "### **return Statement:-**\n",
    "##### The return statement is used to return the value of the expression back to the calling function."
   ]
  },
  {
   "cell_type": "code",
   "execution_count": null,
   "metadata": {},
   "outputs": [],
   "source": [
    "def avg(a,b):\n",
    "    return (a+b)/2\n",
    "avg(12,13)"
   ]
  },
  {
   "attachments": {},
   "cell_type": "markdown",
   "metadata": {},
   "source": [
    "# DAYS 22:-\n",
    "## **Python Lists:-**\n",
    "#### Lists are ordered collection of data items.\n",
    "#### They store multiple items in a single variable.\n",
    "#### List items are separated by commas and enclosed within square brackets [].\n",
    "#### Lists are changeable meaning we can alter them after creation."
   ]
  },
  {
   "cell_type": "code",
   "execution_count": null,
   "metadata": {},
   "outputs": [],
   "source": [
    "list=[1,2,3,4,5,6,7,8,9,10,\"Abhishek\"]\n",
    "print(type(list))\n",
    "print(list)\n",
    "print(len(list))\n",
    "if  5 in list:\n",
    "    print(\"It is present in given list\")"
   ]
  },
  {
   "attachments": {},
   "cell_type": "markdown",
   "metadata": {},
   "source": [
    "## **List Index:-**\n",
    "#### Each item/element in a list has its own unique index. This index can be used to access any particular item from the list. The first item has index [0], second item has index [1], third item has index [2] and so on.\n",
    "\n"
   ]
  },
  {
   "cell_type": "code",
   "execution_count": null,
   "metadata": {},
   "outputs": [],
   "source": [
    "print(len(list))\n",
    "print(list[2])\n",
    "for i in range(len(list)):\n",
    "    print(list[i],end=\" \")"
   ]
  },
  {
   "attachments": {},
   "cell_type": "markdown",
   "metadata": {},
   "source": [
    "## **Accessing list items:-**\n",
    "### We can access list items by using its index with the square bracket syntax []. For example colors[0] will give \"Red\", colors[1] will give \"Green\" and so on...\n",
    "\n",
    "### **Positive Indexing:-**\n",
    "#### As we have seen that list items have index, as such we can access items using these indexes."
   ]
  },
  {
   "cell_type": "code",
   "execution_count": null,
   "metadata": {},
   "outputs": [],
   "source": [
    "print(list[3])"
   ]
  },
  {
   "attachments": {},
   "cell_type": "markdown",
   "metadata": {},
   "source": [
    "### **Negative Indexing:-**\n",
    "#### Similar to positive indexing, negative indexing is also used to access items, but from the end of the list. The last item has index [-1], second last item has index [-2], third last item has index [-3] and so on."
   ]
  },
  {
   "cell_type": "code",
   "execution_count": null,
   "metadata": {},
   "outputs": [],
   "source": [
    "print(list[-2])"
   ]
  },
  {
   "attachments": {},
   "cell_type": "markdown",
   "metadata": {},
   "source": [
    "## **Check whether an item in present in the list?**\n",
    "#### We can check if a given item is present in the list. This is done using the in keyword."
   ]
  },
  {
   "cell_type": "code",
   "execution_count": null,
   "metadata": {},
   "outputs": [],
   "source": [
    "items=input(\"pls enter the searching item \")\n",
    "if items in list:\n",
    "    print(\"Yes ,It i spresent in given list \")\n",
    "else:\n",
    "    print(\"not present in given list \")"
   ]
  },
  {
   "attachments": {},
   "cell_type": "markdown",
   "metadata": {},
   "source": [
    "## **Range of Index:-**\n",
    "#### You can print a range of list items by specifying where you want to start, where do you want to end and if you want to skip elements in between the range.\n",
    "\n",
    "### Syntax:\n",
    "\n",
    "### listName[start : end : jumpIndex]\n",
    "### Note: jump Index is optional. We will see this in later examples.\n",
    "\n"
   ]
  },
  {
   "cell_type": "code",
   "execution_count": null,
   "metadata": {},
   "outputs": [],
   "source": [
    "marks=[1,2,3,4,5,6,7,8,9,10]\n",
    "print(marks[0:3:3])"
   ]
  },
  {
   "attachments": {},
   "cell_type": "markdown",
   "metadata": {},
   "source": [
    "## **List Comprehension:-**\n",
    "#### List comprehensions are used for creating new lists from other iterables like lists, tuples, dictionaries, sets, and even in arrays and strings.\n",
    "\n",
    "### Syntax:\n",
    "### List = [Expression(item) for item in iterable if Condition]\n",
    "\n",
    "### Expression: It is the item which is being iterated.\n",
    "\n",
    "### **Iterable:-**\n",
    "##### It can be list, tuples, dictionaries, sets, and even in arrays and strings.\n",
    "\n",
    "### **Condition:-**\n",
    "##### Condition checks if the item should be added to the new list or not."
   ]
  },
  {
   "cell_type": "code",
   "execution_count": null,
   "metadata": {},
   "outputs": [],
   "source": [
    "list1=[x for x in range(10)]\n",
    "print(list1)"
   ]
  },
  {
   "attachments": {},
   "cell_type": "markdown",
   "metadata": {},
   "source": [
    "# **DASY 23:-**\n",
    "## **List Methods:-**\n",
    "\n"
   ]
  },
  {
   "attachments": {},
   "cell_type": "markdown",
   "metadata": {},
   "source": [
    "### list.sort():-\n",
    "This method sorts the list in ascending order. The original list is updated\n",
    "\n"
   ]
  },
  {
   "cell_type": "code",
   "execution_count": null,
   "metadata": {},
   "outputs": [],
   "source": [
    "l=[12,32,23,1,2,3,4,5,6]\n",
    "print(l)\n",
    "(l.sort())\n",
    "print(l)\n"
   ]
  },
  {
   "attachments": {},
   "cell_type": "markdown",
   "metadata": {},
   "source": [
    "### **reverse():-**\n",
    "This method reverses the order of the list."
   ]
  },
  {
   "cell_type": "code",
   "execution_count": null,
   "metadata": {},
   "outputs": [],
   "source": [
    "l=[1,2,3,4,5]\n",
    "l.reverse()\n",
    "print(l)"
   ]
  },
  {
   "attachments": {},
   "cell_type": "markdown",
   "metadata": {},
   "source": [
    "# **index():-**\n",
    "This method returns the index of the first occurrence of the list item.\n",
    "\n"
   ]
  },
  {
   "cell_type": "code",
   "execution_count": null,
   "metadata": {},
   "outputs": [],
   "source": [
    "l=[1,2,3,4,5]\n",
    "print(l.index(4))"
   ]
  },
  {
   "attachments": {},
   "cell_type": "markdown",
   "metadata": {},
   "source": [
    "### **count():-**\n",
    "Returns the count of the number of items with the given value."
   ]
  },
  {
   "cell_type": "code",
   "execution_count": null,
   "metadata": {},
   "outputs": [],
   "source": [
    "l=[1,2,3,4,5,1,1,2,33]\n",
    "print(l.count(1))"
   ]
  },
  {
   "attachments": {},
   "cell_type": "markdown",
   "metadata": {},
   "source": [
    "### copy():-\n",
    "Returns copy of the list. This can be done to perform operations on the list without modifying the original list.\n",
    "\n"
   ]
  },
  {
   "cell_type": "code",
   "execution_count": null,
   "metadata": {},
   "outputs": [],
   "source": [
    "l=[1,2,3,4,5,6,7]\n",
    "print(l)\n",
    "m=l.copy()\n",
    "m[0]=0\n",
    "print(m)"
   ]
  },
  {
   "attachments": {},
   "cell_type": "markdown",
   "metadata": {},
   "source": [
    "# ☑️🔴**append():-**\n",
    "This method appends items to the end of the existing list.\n",
    "\n"
   ]
  },
  {
   "cell_type": "code",
   "execution_count": null,
   "metadata": {},
   "outputs": [],
   "source": [
    "l=[1,2,4,6]\n",
    "l.append(7)\n",
    "print(l)"
   ]
  },
  {
   "attachments": {},
   "cell_type": "markdown",
   "metadata": {},
   "source": [
    "## **insert():-**\n",
    "This method inserts an item at the given index. User has to specify index and the item to be inserted within the insert() method.\n",
    "\n"
   ]
  },
  {
   "cell_type": "code",
   "execution_count": null,
   "metadata": {},
   "outputs": [],
   "source": [
    "l=[1,2,3,4,5,6]\n",
    "l.insert(1,100)\n",
    "print(l)"
   ]
  },
  {
   "attachments": {},
   "cell_type": "markdown",
   "metadata": {},
   "source": [
    "## **extend():-**\n",
    "This method adds an entire list or any other collection datatype (set, tuple, dictionary) to the existing list.\n",
    "\n"
   ]
  },
  {
   "cell_type": "code",
   "execution_count": null,
   "metadata": {},
   "outputs": [],
   "source": [
    "l=[1,2,3,4,5,6]\n",
    "m=[10,20,30]\n",
    "l.extend(m)\n",
    "print(l)\n"
   ]
  },
  {
   "attachments": {},
   "cell_type": "markdown",
   "metadata": {},
   "source": [
    "## **Concatenating two lists:-**\n",
    "You can simply concatenate two lists to join two lists.\n",
    "\n"
   ]
  },
  {
   "cell_type": "code",
   "execution_count": null,
   "metadata": {},
   "outputs": [],
   "source": [
    "l=[1,2,3,4,5,6]\n",
    "m=[10,20,30]\n",
    "print(l+m)\n"
   ]
  },
  {
   "attachments": {},
   "cell_type": "markdown",
   "metadata": {},
   "source": [
    "# **DAYS 24:-**\n",
    "## **Python Tuples:-**\n",
    "Tuples are ordered collection of data items. They store multiple items in a single variable. Tuple items are separated by commas and enclosed within round brackets (). Tuples are unchangeable meaning we can not alter them after creation.\n",
    "\n",
    " \n"
   ]
  },
  {
   "attachments": {},
   "cell_type": "markdown",
   "metadata": {},
   "source": [
    "## **Tuple Indexes:-**\n",
    "Each item/element in a tuple has its own unique index. This index can be used to access any particular item from the tuple. The first item has index [0], second item has index [1], third item has index [2] and so on.\n",
    "\n"
   ]
  },
  {
   "attachments": {},
   "cell_type": "markdown",
   "metadata": {},
   "source": [
    "## **Accessing tuple items:-**\n",
    "### **I. Positive Indexing:-**\n",
    "As we have seen that tuple items have index, as such we can access items using these indexes."
   ]
  },
  {
   "attachments": {},
   "cell_type": "markdown",
   "metadata": {},
   "source": [
    "### **II. Negative Indexing:-**\n",
    "Similar to positive indexing, negative indexing is also used to access items, but from the end of the tuple. The last item has index [-1], second last item has index [-2], third last item has index [-3] and so on.\n",
    "\n"
   ]
  },
  {
   "attachments": {},
   "cell_type": "markdown",
   "metadata": {},
   "source": [
    "### **III. Check for item:-**\n",
    "We can check if a given item is present in the tuple. This is done using the in keyword.\n",
    "\n"
   ]
  },
  {
   "attachments": {},
   "cell_type": "markdown",
   "metadata": {},
   "source": [
    "### **IV. Range of Index:-**\n",
    "##### You can print a range of tuple items by specifying where do you want to start, where do you want to end and if you want to skip elements in between the range.\n",
    "\n",
    "### Syntax:-\n",
    "##### Tuple[start : end : jumpIndex]\n",
    "##### Note: jump Index is optional. We will see this in given examples."
   ]
  },
  {
   "attachments": {},
   "cell_type": "markdown",
   "metadata": {},
   "source": [
    "# **DAYS 25:-**\n",
    "## **Manipulating Tuples:-**\n",
    "Tuples are immutable, hence if you want to add, remove or change tuple items, then first you must convert the tuple to a list. Then perform operation on that list and convert it back to tuple.\n",
    "\n"
   ]
  },
  {
   "attachments": {},
   "cell_type": "markdown",
   "metadata": {},
   "source": [
    "# Days 42:-\n",
    "#  ENUMERATE FUNCTION IN PYTHON:-  \n",
    "THE ENUMERATE FUNCTION IS A BUILT IN FUNCTION IN PYTHON IN PYTHON THAT ALLOWS YOU TO LOOP OVER A SEQUENCE(SUCH AS A LIST, TUPLE ,OR STRING) AND GET THE INDEX AND VALUE OF EACH ELEMENT IN THE SEQUENCE AT THE SAME TIME. HERE'S A BASIC EXAMPLE OF HOW IT WORKS.   "
   ]
  },
  {
   "cell_type": "code",
   "execution_count": null,
   "metadata": {},
   "outputs": [],
   "source": [
    "marks = [50, 51, 42, 45, 96, 100]\n",
    "for index, mark in enumerate(marks):\n",
    "    print(mark)\n",
    "    if (index == 3):\n",
    "        print(\"pass\", \"good\")\n"
   ]
  },
  {
   "cell_type": "code",
   "execution_count": null,
   "metadata": {},
   "outputs": [],
   "source": [
    "rollno = [\"1\", \"2\", \"3\", \"4\", \"5\"]\n",
    "for i in range(len(rollno)):\n",
    "    name = input(\"pls enter the name:\")\n",
    "    print(rollno[i], \"-\", name)\n"
   ]
  },
  {
   "attachments": {},
   "cell_type": "markdown",
   "metadata": {},
   "source": [
    "# DAY 43:-VIRTUAL ENVIRONMENT IN PYTHON:-\n",
    "  A VIRTUAL ENVIRONMENT IS A TOOL USED TO ISOLATE SPECIFIC PYTHON ENVIORNMENTS ON A SINGLE MACHINE,ALLOWING YOU TO WORK ON MULTIPLE PROJECTS WITH DIFFRENT DEPENDENCIES AND PACKAGES WITHOUT CONFLICTS. THIS CAN BE ESPECIALLY USEFUL WHEN WORKING ON PROJECTS THAT HAVE CONFLICTING PACKAGE VIRSION OR PACKAGE THAT ARE NOT COMPATIBLE WITH EACH OTHER. \n",
    "  TO CREATE A VIRTUAL ENVIRONMENT IN PYTHON ,YOU CAN USE THE VENV MODULE THAT COMES WITH PYTHON .HERE'S  AN EXAMPLE OF HOW TO CREATE A VIRTUL ENVIRONMENT AND ACTIVATE IT:"
   ]
  },
  {
   "attachments": {},
   "cell_type": "markdown",
   "metadata": {},
   "source": [
    "# Create a virtual enviroment:- \n",
    "python -m venv myenv \n",
    "# Activate the virtual enviroment(linux/macOS):-\n",
    "source myenv/bin/activate\n",
    "# Create a virtual enviroment(windows):-\n",
    "myenv\\scripts\\activate.bat"
   ]
  },
  {
   "attachments": {},
   "cell_type": "markdown",
   "metadata": {},
   "source": [
    "# DAYS 44: How import works in python:-\n",
    "Importing python is the process of loading code from a python module into the current script. This allows you to use the function and defined in the module in your currrent script,as well as any additional modules that the imported module may depend on>\n",
    "\n",
    "To import a module in python,You use the import statement followed by the name of module. \n",
    "For example,to import the math module ,which contains a verify of mathmatical functions ,you would use the following statements:\n",
    "## import math  "
   ]
  },
  {
   "cell_type": "code",
   "execution_count": null,
   "metadata": {},
   "outputs": [],
   "source": [
    "import math\n",
    "math.sqrt(9)\n"
   ]
  },
  {
   "cell_type": "code",
   "execution_count": null,
   "metadata": {},
   "outputs": [],
   "source": [
    "from math import sqrt, pi\n",
    "result = math.sqrt(9)*pi\n",
    "print(result)\n"
   ]
  },
  {
   "cell_type": "code",
   "execution_count": null,
   "metadata": {},
   "outputs": [],
   "source": [
    "import math\n"
   ]
  },
  {
   "attachments": {},
   "cell_type": "markdown",
   "metadata": {},
   "source": [
    "## from dir function we can acces all math function:"
   ]
  },
  {
   "cell_type": "code",
   "execution_count": null,
   "metadata": {},
   "outputs": [],
   "source": [
    "import math\n",
    "print(dir(math))\n"
   ]
  },
  {
   "attachments": {},
   "cell_type": "markdown",
   "metadata": {},
   "source": [
    "# DAYS 45: if__name__==\"main__\"in pythom:-\n",
    "### The if__name__==\"__main__\" idiom is a common pattern used in python used in python scripts to determine whether the script is being run directly or being imported as a module into another script:\n"
   ]
  },
  {
   "attachments": {},
   "cell_type": "markdown",
   "metadata": {},
   "source": [
    "# ☑️☑️☑️🔴🔴 DAYS 46: OS Module in python:-\n",
    "#### The os module in python is a built-in liberary that provides functions for interacting with the operating system. It allows you to perform a wide veriety of task,such as reading and writing files,interacting with the file system ,and runing system commands. \n",
    " #### Here are some common tasks you can perform with the os module:\n",
    " #### Reading and writing files The os module provides functions for opening,reading and writing files. \n",
    " #### For example,to open a file for reading, you can use the open function:"
   ]
  },
  {
   "cell_type": "code",
   "execution_count": null,
   "metadata": {},
   "outputs": [],
   "source": [
    "import os\n",
    "if (not os.path.exists((\"data\"))):\n",
    "    # this function is used for create a directory on the filesystem:\n",
    "    os.mkdir(\"data\")\n",
    "# by using this line we can easly acces the 100 file in data directory file.\n",
    "for i in range(0, 100):\n",
    "    os.mkdir(f\"data/Day{i+1}\")\n"
   ]
  },
  {
   "cell_type": "code",
   "execution_count": null,
   "metadata": {},
   "outputs": [],
   "source": [
    "import os\n",
    "for i in range(0, 100):\n",
    "    # this function is used to rename the file name which is before 'Days' but after rename function is called it is convert in Tutorial.\n",
    "    os.rename(f\"data/Day{i+1}\", f\"data/Tutorial {i+1}\")\n"
   ]
  },
  {
   "cell_type": "code",
   "execution_count": null,
   "metadata": {},
   "outputs": [],
   "source": [
    "import os\n",
    "folders = os.listdir(\"data\")\n",
    "print(folders)\n",
    "for folder in folders:\n",
    "    print(folder)\n"
   ]
  },
  {
   "attachments": {},
   "cell_type": "markdown",
   "metadata": {},
   "source": [
    "# DAYS 48 LOCAL VARIABLE AND GLOBAL VARIABLE:-\n",
    "### A local variable is a variable that is defined within a function and is only accessible within that the function .It is created when the function is called and is destroyed when the function returns.\n",
    "### On the other hand,a global variable is a global variable that is defined outside of a function and is only accessible from  within any function in your code."
   ]
  },
  {
   "cell_type": "code",
   "execution_count": null,
   "metadata": {},
   "outputs": [],
   "source": [
    "x = 5  # this is an example of global variable.\n",
    "print(x)\n",
    "\n",
    "\n",
    "def Hello():\n",
    "    # by using the global variable x, we can easly change the value of x in this fuction.\n",
    "    global x\n",
    "    x = 4\n",
    "    # this is a local variable then it is exesible only in the function not ouside of the function.\n",
    "    y = 3\n",
    "    print(y)\n",
    "    print(\"Hellow Abhis\")\n",
    "\n",
    "\n",
    "Hello()\n",
    "print(x)\n",
    "# print(y)# this is not working bcz y is a local variable then it is only working inside the function.\n"
   ]
  },
  {
   "attachments": {},
   "cell_type": "markdown",
   "metadata": {},
   "source": [
    "# 🔴🔴FILE HANDLING IN PYTHON:- "
   ]
  },
  {
   "attachments": {},
   "cell_type": "markdown",
   "metadata": {},
   "source": [
    "# DAYS 49: FILE IO IN PYTHON:-\n",
    "  ## OPENING A FILE :-\n",
    "     BEFORE WE CAN PERFORM ANY OPERATION IN A FILE , WE MUST FIRST OPEN IT. PYTHONPROVIDES THE OPEN() function TO OPEN A FILE.IT TAKES TWO ARGUMENTS: THE NAME OF  THE FILE AND THE MODE IN WHICH THE FILE SHOULD BE OPENED .THE MODE CAN BE'r' FOR READING .'w' FOR WRITING OR 'a' FOR APPENDING.\n",
    "  ## MODES IN PYTHON:-\n",
    "  #### 1.READ(r):-This mode opens the file for reading only and gives an error if the file does not exist. this is the default mode if no mode is passed as a parameter.\n",
    "  #### 2.WRITE(w):- This mode open the file for writing only and creates a new file if the file doese not exist .\n",
    "  #### 3.append(a):- This mode opens the file for appending only and creates a new file if the file does not exist.\n",
    "  #### 4.Create(x):- This mode create a file and gives an error if the file already exist.\n",
    "  #### 5.Text(t):- Apart from the modes we also need to specify how the file most be handled. t mode is used to handle text files. t refers to the text mode . there is no diffrence b/w r and rt or w and wt since text mode is the default.The default mode is 'r' (open for reading text, synonym of'rt' )\n",
    "  #### 6.Binary(b):-used to handle binary files(images ,pdfs,etc)         "
   ]
  },
  {
   "cell_type": "code",
   "execution_count": null,
   "metadata": {},
   "outputs": [],
   "source": [
    "f = open('kbc_game.py ', 'r')\n",
    "text = f.read()\n",
    "print(text)\n",
    "f.close()\n"
   ]
  },
  {
   "cell_type": "code",
   "execution_count": null,
   "metadata": {},
   "outputs": [],
   "source": [
    "f = open('gh.py', 'w')\n",
    "f.write('Hellow world!')\n",
    "f.close()\n"
   ]
  },
  {
   "attachments": {},
   "cell_type": "markdown",
   "metadata": {},
   "source": [
    "# Days 50:READ() ,READLINES()AND OTHER METHODS:-"
   ]
  },
  {
   "cell_type": "code",
   "execution_count": null,
   "metadata": {},
   "outputs": [],
   "source": [
    "f = open('gh.py', 'r')\n",
    "while True:\n",
    "    line = f.readline()\n",
    "    print(line)\n",
    "    if not line:\n",
    "        print(line, type(line))\n",
    "        break\n"
   ]
  },
  {
   "cell_type": "code",
   "execution_count": null,
   "metadata": {},
   "outputs": [],
   "source": [
    "f = open('txt.py', 'r')\n",
    "i = 0\n",
    "while True:\n",
    "    i = i+1\n",
    "    line = f.readline()\n",
    "    if not line:\n",
    "        break\n",
    "    m1 = (line.split(\",\")[0])\n",
    "    m2 = (line.split(\",\")[1])\n",
    "    m3 = (line.split(\",\")[2])\n",
    "    print(f\"Marks of student {i} in Maths is:{m1}\")\n",
    "    print(f\"Marks of student {i} in Englishis:{m2}\")\n",
    "    print(f\"Marks of student {i} in SST is:{m3}\")\n",
    "    print(line)\n"
   ]
  },
  {
   "cell_type": "code",
   "execution_count": null,
   "metadata": {},
   "outputs": [],
   "source": [
    "f = open('myfiletxt2', 'w')\n",
    "lines = ['line1\\n', 'line2\\n', 'line3\\n']\n",
    "f.writelines(lines)\n",
    "f.close()\n"
   ]
  },
  {
   "cell_type": "code",
   "execution_count": null,
   "metadata": {},
   "outputs": [],
   "source": [
    "import os\n",
    "os.mkdir('dat')\n",
    "for i in range(1, 100):\n",
    "    os.mkdir(f\"dat\\tutorial{i}\")\n"
   ]
  },
  {
   "attachments": {},
   "cell_type": "markdown",
   "metadata": {},
   "source": [
    "# DAYS 51:seek(),tel()and other functions:-\n",
    "# ☑️seek() and tell() functions:- \n",
    "### in python,the seek() and tell() functions are used to work with file objects and their positions within a file. These function are part of the built in io module , which provides a consisitent interface for reading and writing to various file like objects,such as file,pipes ,and in-memory buffers.\n",
    "## ☑️seek() function:-  \n",
    "###    The seek() function allows you to move the  current position within a file to a specific point. The position is specified in bytes, and you can move either forward or backword from the current posittion \n",
    "# ☑️truncate():-\n",
    "### When you open a file in python using the open function,you can specify th emode in which you want to open the file. If you specify the mode as 'w' or 'a', the file is openend in write mode and you can write to the the file. However ,if ypu want to truncate the file to a specify size, you can use the truncate function.      \n",
    "\n",
    "\n",
    "\n",
    "\n"
   ]
  },
  {
   "cell_type": "code",
   "execution_count": null,
   "metadata": {},
   "outputs": [],
   "source": [
    "with open('file.txt', 'r') as f:\n",
    "    print(type(f))\n",
    "    f.seek(10)  # by using the seek() function we can access the data after 10 bytes\n",
    "    print(f.tell())\n",
    "    # f.read(5) this function is used to read only 5bytes of data after seek function\n",
    "    data = f.read(5)\n",
    "    print(data)\n"
   ]
  },
  {
   "cell_type": "code",
   "execution_count": null,
   "metadata": {},
   "outputs": [],
   "source": [
    "with open('file.txt', 'w') as f:\n",
    "    f.write('Hellow World!')\n",
    "    # this function is used for truncate the hellow world  charecter print from  at first 10 elemnet:-\n",
    "    f.truncate(10)\n",
    "with open('file.txt', 'r') as f:\n",
    "    print(f.read())\n"
   ]
  },
  {
   "attachments": {},
   "cell_type": "markdown",
   "metadata": {},
   "source": [
    "# ☑️DAYS 52:- lambda function:-\n",
    "## this function is used for create a single line of function without create any function.\n",
    "\n"
   ]
  },
  {
   "cell_type": "code",
   "execution_count": null,
   "metadata": {},
   "outputs": [],
   "source": [
    "# By this methrod we can create a function for finding the cube of a number x.\n",
    "def cube(x):\n",
    "    return x*x*x\n",
    "\n",
    "\n",
    "print(cube(3))\n",
    "\n",
    "# by using lambda function we can solve the cube function:-\n",
    "\n",
    "\n",
    "def cube(a): return a*a*a\n",
    "\n",
    "\n",
    "print(cube(4))\n",
    "def avg(x, y): return (x+y)/2\n",
    "print(avg(2, 3))\n"
   ]
  },
  {
   "attachments": {},
   "cell_type": "markdown",
   "metadata": {},
   "source": [
    "# DAYS 53: Map, Filter and Reduce\n",
    "In Python, the map, filter, and reduce functions are built-in functions that allow you to apply a function to a sequence of elements and return a new sequence. These functions are known as higher-order functions, as they take other functions as arguments.\n",
    "\n",
    "## map:-\n",
    "### The map function applies a function to each element in a sequence and returns a new sequence containing the transformed elements. The map function has the following syntax:\n",
    "\n",
    "### map(function, iterable)\n",
    "### The function argument is a function that is applied to each element in the iterable argument. The iterable argument can be a list, tuple, or any other iterable object. \n",
    "## filter\n",
    "### The filter function filters a sequence of elements based on a given predicate (a function that returns a boolean value) and returns a new sequence containing only the elements that meet the predicate. The filter function has the following syntax:\n",
    "\n",
    "### filter(predicate, iterable)\n",
    "### The predicate argument is a function that returns a boolean value and is applied to each element in the iterable argument. The iterable argument can be a list, tuple, or any other iterable object.\n",
    "\n"
   ]
  },
  {
   "cell_type": "code",
   "execution_count": null,
   "metadata": {},
   "outputs": [],
   "source": [
    "# map example :-\n",
    "from functools import reduce\n",
    "l = [1, 2, 3, 4, 5, 6, 7, 8, 9]\n",
    "print(list(map(lambda x: x*x*x, l)))\n",
    "\n",
    "# FILTER Example:-\n",
    "a = list(filter(lambda x: x > 4, l))\n",
    "print(a)\n",
    "\n",
    "# Reduce function:-\n",
    "number = [1, 2, 3, 4, 5, 6, 7, 8]\n",
    "\n",
    "\n",
    "\n",
    "def mysum(a, b):\n",
    "    return a+b\n",
    "\n",
    "\n",
    "print((reduce(mysum, number)))\n"
   ]
  },
  {
   "attachments": {},
   "cell_type": "markdown",
   "metadata": {},
   "source": [
    "# DAYS 54:'is' vs '==' in Python\n",
    "## In Python, is and == are both comparison operators that can be used to check if two values are equal.\n",
    "## However, there are some important differences between the two that you should be aware of.\n",
    "\n",
    "## The is operator compares the identity of two objects, while the == operator compares the values of the objects. This means that is will only return True if the objects being compared are the exact same object in memory, while == will return True if the objects have the same value."
   ]
  },
  {
   "cell_type": "code",
   "execution_count": null,
   "metadata": {},
   "outputs": [],
   "source": [
    "a = [1, 2, 3]  # list is not imutable then \"is\" function return false value.\n",
    "b = [1, 2, 3]\n",
    "print(a is b)  # it is compair the \"exact location of object in memory\".\n",
    "print(a == b)  # it is \"compair the value\".\n",
    "c = \"Abhishek\"\n",
    "d = \"Abhishek\"\n",
    "print(c is d)\n",
    "print(c == d)\n",
    "a1 = (1, 2)\n",
    "b1 = (1, 2)\n",
    "print(a1 is b1)\n",
    "print(a1 == b1)\n"
   ]
  },
  {
   "attachments": {},
   "cell_type": "markdown",
   "metadata": {},
   "source": [
    "# DAYS 55\\63:\n",
    "# Snake Water Gun:-\n",
    "###  Snake, Water and Gun is a variation of the children's game \"rock-paper-scissors\" where players use hand gestures to represent a snake, water, or a gun. The gun beats the snake, the water beats the gun, and the snake beats the water. Write a python program to create a Snake Water Gun game in Python using if-else statements. Do not create any fancy GUI. Use proper functions to check for win."
   ]
  },
  {
   "cell_type": "code",
   "execution_count": null,
   "metadata": {},
   "outputs": [],
   "source": [
    "import random\n",
    "option=[\"Snake\",\"Water\",\"Gun\"]\n",
    "print(option)\n",
    "print(\"  ⬇️      \",\" ⬇️    \",\"  ⬇️      \")\n",
    "print(\"  -1      \",\"  0     \",\"   1      \")\n",
    "name=input(\"Pls enter your name➡️   \")\n",
    "def Chek(comp,user):\n",
    "  # print(\"comp=\",comp,\"user=\",user)\n",
    "  if(comp==user):\n",
    "    return 0\n",
    "  elif(comp==-1 and user==0):\n",
    "    return -1\n",
    "  elif(comp==0 and user==1):\n",
    "    return -1\n",
    "  elif(comp==1 and user==-1):\n",
    "    return -1\n",
    "  else:\n",
    "    return 1      \n",
    "comp=random.randint(-1,1)\n",
    "user=int(input(\"pls enter the option:  \"))  \n",
    "print(\"computer is select➡️  \",comp)\n",
    "print(name,\"is select➡️ \",user)\n",
    "score=Chek(comp, user)\n",
    "if(score==0):\n",
    "  print(\"Game Draw\")\n",
    "elif(score==-1):\n",
    "  print(\"You lose\")\n",
    "elif(score==1):\n",
    "  print(name,\"is win😊😊\")"
   ]
  },
  {
   "attachments": {},
   "cell_type": "markdown",
   "metadata": {},
   "source": [
    "# DAYS 56: Introduction to Object-oriented programming\n",
    "## Introduction to Object-Oriented Programming in Python: In programming languages, mainly there are two approaches that are used to write program or code.\n",
    "\n",
    "## 1). Procedural Programming\n",
    "## 2). Object-Oriented Programming\n",
    "### The procedure we are following till now is the “Procedural Programming” approach. So, in this session, we will learn about Object Oriented Programming (OOP). The basic idea of object-oriented programming (OOP) in Python is to use classes and objects to represent real-world concepts and entities.\n",
    "\n",
    "### A class is a blueprint or template for creating objects. It defines the properties and methods that an object of that class will have. Properties are the data or state of an object, and methods are the actions or behaviors that an object can perform.\n",
    "\n",
    "### An object is an instance of a class, and it contains its own data and methods. For example, you could create a class called \"Person\" that has properties such as name and age, and methods such as speak() and walk(). Each instance of the Person class would be a unique object with its own name and age, but they would all have the same methods to speak and walk.\n",
    "\n",
    "### One of the key features of OOP in Python is encapsulation, which means that the internal state of an object is hidden and can only be accessed or modified through the object's methods. This helps to protect the object's data and prevent it from being modified in unexpected ways.\n",
    "\n",
    "### Another key feature of OOP in Python is inheritance, which allows new classes to be created that inherit the properties and methods of an existing class. This allows for code reuse and makes it easy to create new classes that have similar functionality to existing classes.\n",
    "\n",
    "### Polymorphism is also supported in Python, which means that objects of different classes can be treated as if they were objects of a common class. This allows for greater flexibility in code and makes it easier to write code that can work with multiple types of objects.\n",
    "\n",
    "### In summary, OOP in Python allows developers to model real-world concepts and entities using classes and objects, encapsulate data, reuse code through inheritance, and write more flexible code through polymorphism.\n",
    "\n"
   ]
  },
  {
   "attachments": {},
   "cell_type": "markdown",
   "metadata": {},
   "source": [
    "# DAYS 57:Python Class and Objects\n",
    "### A class is a blueprint or a template for creating objects, providing initial values for state (member variables or attributes), and implementations of behavior (member functions or methods). The user-defined objects are created using the class keyword.\n",
    "## Creating a Class:\n",
    "### Let us now create a class using the class keyword.\n",
    "\n",
    "### class Details:\n",
    "     name = \"Rohan\"\n",
    "    age = 20\n",
    "## Creating an Object:\n",
    "### Object is the instance of the class used to access the properties of the class Now lets create an object of the class.\n",
    "\n",
    "### Example:\n",
    "obj1 = Details()\n",
    "Now we can print values:\n",
    "\n",
    "### Example:\n",
    "class Details:\n",
    "    name = \"Rohan\"\n",
    "    age = 20\n",
    "\n",
    "obj1 = Details()\n",
    "print(obj1.name)\n",
    "print(obj1.age)\n",
    "### Output:\n",
    "Rohan\n",
    "20\n",
    "## **🔴self parameter:-**\n",
    "### The self parameter is a reference to the current instance of the class, and is used to access variables that belongs to the class.\n",
    "\n",
    "### It must be provided as the extra parameter inside the method definition.\n",
    "\n",
    "## Example:\n",
    "class Details:\n",
    "    name = \"Rohan\"\n",
    "    age = 20\n",
    "\n",
    "    def desc(self):\n",
    "        print(\"My name is\", self.name, \"and I'm\", self.age, \"years old.\")\n",
    "\n",
    "obj1 = Details()\n",
    "obj1.desc()\n",
    "## Output:\n",
    "My name is Rohan and I'm 20 years old.\n",
    "\n"
   ]
  },
  {
   "cell_type": "code",
   "execution_count": null,
   "metadata": {},
   "outputs": [],
   "source": [
    "class Person:\n",
    "    name = \"Abhishek\"\n",
    "    occupation = \"Data Analytics\"\n",
    "    networth = 100000\n",
    "    def info(self):\n",
    "        print(f\"{self.name} is a {self.occupation}\")\n",
    "\n",
    "a = Person()\n",
    "a.name=\"ABhishek Upadhyay\"\n",
    "print(a.name,a.occupation)\n",
    "a.info()"
   ]
  },
  {
   "attachments": {},
   "cell_type": "markdown",
   "metadata": {},
   "source": [
    "# DAYS 58:-\n",
    "## **Constructors:-**\n",
    "###  A constructor is a special method in a class used to create and initialize an object of a class. There are different types of constructors. Constructor is invoked automatically when an object of a class is created.\n",
    "\n",
    "### A constructor is a unique function that gets called automatically when an object is created of a class. The main purpose of a constructor is to initialize or assign values to the data members of that class. It cannot return any value other than None.\n",
    "### Syntax of Python Constructor\n",
    "def __init__(self):\n",
    "\t initializations\n",
    "### init is one of the reserved functions in Python. In Object Oriented Programming, it is known as a constructor.\n",
    "\n",
    "## **Types of Constructors in Python:-**\n",
    "### 1.Parameterized Constructor\n",
    "### 2.Default Constructor\n",
    "### **Parameterized Constructor in Python:-**\n",
    "#### When the constructor accepts arguments along with self, it is known as parameterized constructor.\n",
    "\n",
    "#### These arguments can be used inside the class to assign the values to the data members.\n",
    "\n",
    "#### Default Constructor in Python\n",
    "##### When the constructor doesn't accept any arguments from the object and has only one argument, self, in the constructor, it is known as a Default constructor.\n"
   ]
  },
  {
   "cell_type": "code",
   "execution_count": null,
   "metadata": {},
   "outputs": [],
   "source": [
    "class person:\n",
    "    def __init__(self, name, occ):\n",
    "        print(\"Hey I am a person\")\n",
    "        self.name = name\n",
    "        self.occ = occ\n",
    "\n",
    "    def info(self):\n",
    "        print(f\"{self.name} is a {self.occ}\")\n",
    "\n",
    "\n",
    "a = person(\"Abhishek\", \"Data anlytics\")\n",
    "b = person(\"Ekta\", \"Doctor\")\n",
    "a.info()\n",
    "b.info()\n"
   ]
  },
  {
   "attachments": {},
   "cell_type": "markdown",
   "metadata": {},
   "source": [
    "# DAYS 59:- \n",
    "## **Python Decorators:-**\n",
    "### Python decorators are a powerful and versatile tool that allow you to modify the behavior of functions and methods. They are a way to extend the functionality of a function or method without modifying its source code.\n",
    "\n",
    "### A decorator is a function that takes another function as an argument and returns a new function that modifies the behavior of the original function. The new function is often referred to as a \"decorated\" function. The basic syntax for using a decorator is the following:\n",
    "\n",
    "### @decorator_function\n",
    "### def my_function():\n",
    "###    pass\n",
    "### The @decorator_function notation is just a shorthand for the following code:\n",
    "\n",
    "### def my_function():\n",
    "###    pass\n",
    "### my_function = decorator_function(my_function)\n",
    "### Decorators are often used to add functionality to functions and methods, such as logging, memoization, and access control.\n",
    "\n",
    "### Practical use case:-\n",
    "##### One common use of decorators is to add logging to a function. For example, you could use a decorator to log the arguments and return value of a function each time it is called:\n",
    "\n",
    "## import logging\n",
    "\n",
    "##### def log_function_call(func):\n",
    "#####     def decorated(*args, **kwargs):\n",
    "#####         logging.info(f\"Calling {func.__name__} with args={args}, kwargs={kwargs}\")\n",
    "#####         result = func(*args, **kwargs)\n",
    "#####         logging.info(f\"{func.__name__} returned {result}\")\n",
    "#####         return result\n",
    "#####     return decorated\n",
    "\n",
    "## @log_function_call\n",
    "def my_function(a, b):\n",
    "    return a + b\n",
    "## In this example, the log_function_call decorator takes a function as an argument and returns a new function that logs the function call before and after the original function is called.\n",
    "\n",
    "# Conclusion\n",
    "### Decorators are a powerful and flexible feature in Python that can be used to add functionality to functions and methods without modifying their source code. They are a great tool for separating concerns, reducing code duplication, and making your code more readable and maintainable.\n",
    "\n",
    "### In conclusion, python decorators are a way to extend the functionality of functions and methods, by modifying its behavior without modifying the source code. They are used for a variety of purposes, such as logging, memoization, access control, and more. They are a powerful tool that can be used to make your code more readable, maintainable, and extendable.\n",
    "\n"
   ]
  },
  {
   "cell_type": "code",
   "execution_count": null,
   "metadata": {},
   "outputs": [],
   "source": [
    "\n",
    "def greet(fx):\n",
    "      def mfx():\n",
    "        print(\"Good Morning\")\n",
    "        fx()\n",
    "        print(\"Thanks for using this functions \")\n",
    "      return mfx\n",
    "@greet\n",
    "def hellow():\n",
    "    print(\"Hellow world!\")    \n",
    "def add(a,b):\n",
    "    print(a+b)\n",
    "hellow() "
   ]
  },
  {
   "attachments": {},
   "cell_type": "markdown",
   "metadata": {},
   "source": [
    "# DAYS 60:-\n",
    "## **Getters:-**\n",
    "### Getters in Python are methods that are used to access the values of an object's properties. They are used to return the value of a specific property, and are typically defined using the @property decorator. Here is an example of a simple class with a getter method:\n",
    "\n",
    "### class MyClass:\n",
    "###     def __init__(self, value):\n",
    "###         self._value = value\n",
    "\n",
    "###     @property\n",
    "###     def value(self):\n",
    "###         return self._value\n",
    "### In this example, the MyClass class has a single property, _value, which is initialized in the init method. The value method is defined as a getter using the @property decorator, and is used to return the value of the _value property.\n",
    "\n",
    "### To use the getter, we can create an instance of the MyClass class, and then access the value property as if it were an attribute:\n",
    "\n",
    "### >>> obj = MyClass(10)\n",
    "### >>> obj.value\n",
    "### 10\n",
    "## **Setters:-**\n",
    "### It is important to note that the getters do not take any parameters and we cannot set the value through getter method.For that we need setter method which can be added by decorating method with @property_name.setter\n",
    "\n",
    "### Here is an example of a class with both getter and setter:\n",
    "\n",
    "### class MyClass:\n",
    "###     def __init__(self, value):\n",
    "###         self._value = value\n",
    "\n",
    "###     @property\n",
    "###     def value(self):\n",
    "###         return self._value\n",
    "\n",
    "###     @value.setter\n",
    "###     def value(self, new_value):\n",
    "###         self._value = new_value\n",
    "### We can use setter method like this:\n",
    "\n",
    "### >>> obj = MyClass(10)\n",
    "### >>> obj.value = 20\n",
    "### >>> obj.value\n",
    "### 20\n",
    "### In conclusion, getters are a convenient way to access the values of an object's properties, while keeping the internal representation of the property hidden. This can be useful for encapsulation and data validation.\n"
   ]
  },
  {
   "cell_type": "code",
   "execution_count": null,
   "metadata": {},
   "outputs": [],
   "source": [
    "class MyClass:\n",
    "      def __init__(self, value):\n",
    "        self._value = value\n",
    "def show(self):\n",
    "  print(f\"Value is {self._value} \")\n",
    "  @property\n",
    "  def ten_value(self):\n",
    "    return self._value\n",
    "  @ten_value(self)\n",
    "  def ten_values(self): \n",
    "      return 10* self._value\n",
    "  @ten_value.setter\n",
    "  def ten_value(self,new_value):\n",
    "      self._value=new_value/10\n",
    "  \n",
    "obj=MyClass(10) \n",
    "obj.ten_value=67\n",
    "print(obj.ten_value)\n",
    "obj.show()"
   ]
  },
  {
   "attachments": {},
   "cell_type": "markdown",
   "metadata": {},
   "source": [
    "# DAYS 61:-\n",
    "## **INHERITANCE IN PYTHON:-**\n",
    "### When a class derives from another class. The child class will inherit all the public and protected properties and methods from the parent class. In addition, it can have its own properties and methods,this is called as inheritance.\n",
    "\n",
    "## **Python Inheritance Syntax:-**\n",
    "### class BaseClass:\n",
    "###  Body of base class\n",
    "### class DerivedClass(BaseClass):\n",
    "##  Body of derived class\n",
    "### Derived class inherits features from the base class where new features can be added to it. This results in re-usability of code.\n",
    "\n",
    "# Types of inheritance:\n",
    "## 1.Single inheritance\n",
    "## 2.Multiple inheritance\n",
    "## 3.Multilevel inheritance\n",
    "## 4.Hierarchical Inheritance\n",
    "## 5.Hybrid Inheritance\n",
    "### We will see the explaination and example of each type of inheritance in the later tutorials\n",
    "\n"
   ]
  },
  {
   "cell_type": "code",
   "execution_count": null,
   "metadata": {},
   "outputs": [],
   "source": [
    "class Employee:\n",
    "      def __init__(self,name,id):\n",
    "    self.name=name\n",
    "    self.id=id\n",
    "  def showDetails(self):\n",
    "    print(f\"The name of Employee: {self.id} is {self.name}\")\n",
    "class Programmer(Employee):\n",
    "  def showLanguage(self):\n",
    "    print(\"The default language is python\")     \n",
    "e1=Employee(\"Abhishek Upadhyay\",1201)\n",
    "e1.showDetails()      \n",
    "e2=Employee(\"Akash\",1202)\n",
    "e2.showDetails()        \n",
    "# e3=Employee(\"Sandeep\",1203)\n",
    "# e3.showDetails() \n",
    "e3=Programmer(\"Sandeep\",1203)  \n",
    "e3.showDetails() \n",
    "e3.showLanguage()"
   ]
  },
  {
   "attachments": {},
   "cell_type": "markdown",
   "metadata": {},
   "source": [
    "# DAYS 62:ACCESS MODIFIERS IN PYTHON:-"
   ]
  },
  {
   "attachments": {},
   "cell_type": "markdown",
   "metadata": {},
   "source": [
    "# Access Specifiers/Modifiers\n",
    "#### Access specifiers or access modifiers in python programming are used to limit the access of class variables and class methods outside of class while implementing the concepts of inheritance.\n",
    "\n",
    "## Let us see the each one of access specifiers in detail:\n",
    "\n",
    "## Types of access specifiers\n",
    "Public access modifier\n",
    "Private access modifier\n",
    "Protected access modifier\n"
   ]
  },
  {
   "attachments": {},
   "cell_type": "markdown",
   "metadata": {},
   "source": [
    "# Public Access Specifier in Python\n",
    "#### All the variables and methods (member functions) in python are by default public. Any instance variable in a class followed by the ‘self’ keyword ie. self.var_name are public accessed.\n",
    "\n",
    "### Example:\n",
    "### class Student:\n",
    "    # constructor is defined\n",
    "    def __init__(self, age, name):\n",
    "        self.age = age               # public variable\n",
    "        self.name = name             # public variable\n",
    "\n",
    "obj = Student(21,\"Harry\")\n",
    "print(obj.age)\n",
    "print(obj.name)\n",
    "Output:\n",
    "21\n",
    "Harry"
   ]
  },
  {
   "cell_type": "code",
   "execution_count": null,
   "metadata": {},
   "outputs": [],
   "source": []
  },
  {
   "attachments": {},
   "cell_type": "markdown",
   "metadata": {},
   "source": [
    "# Private Access Modifier\n",
    "#### By definition, Private members of a class (variables or methods) are those members which are only accessible inside the class. We cannot use private members outside of class.\n",
    "\n",
    "#### In Python, there is no strict concept of \"private\" access modifiers like in some other programming languages. However, a convention has been established to indicate that a variable or method should be considered private by prefixing its name with a double underscore (__). This is known as a \"weak internal use indicator\" and it is a convention only, not a strict rule. Code outside the class can still access these \"private\" variables and methods, but it is generally understood that they should not be accessed or modified.\n",
    "\n",
    "Example:\n",
    "class Student: \n",
    "    def __init__(self, age, name): \n",
    "        self.__age = age      # An indication of private variable\n",
    "        \n",
    "        def __funName(self):  # An indication of private function\n",
    "            self.y = 34\n",
    "            print(self.y)\n",
    "\n",
    "class Subject(Student):\n",
    "    pass\n",
    "\n",
    "obj = Student(21,\"Harry\")\n",
    "obj1 = Subject\n",
    "\n",
    "# calling by object of class Student\n",
    "print(obj.__age)\n",
    "print(obj.__funName())\n",
    "\n",
    "# calling by object  of class Subject\n",
    "print(obj1.__age)\n",
    "print(obj1.__funName())\n",
    "Output:\n",
    "AttributeError: 'student' object has no attribute '__age'\n",
    "AttributeError: 'student' object has no method '__funName()'\n",
    "AttributeError: 'subject' object has no attribute '__age'\n",
    "AttributeError: 'student' object has no method '__funName()'\n",
    "Private members of a class cannot be accessed or inherited outside of class. If we try to access or to inherit the properties of private members to child class (derived class). Then it will show the error.\n",
    "\n",
    "# Name mangling\n",
    "# Name mangling in Python is a technique used to protect class-private and superclass-private attributes from being accidentally overwritten by subclasses. Names of class-private and superclass-private attributes are transformed by the addition of a single leading underscore and a double leading underscore respectively.\n",
    "\n",
    "# class MyClass:\n",
    "    def __init__(self):\n",
    "        self._nonmangled_attribute = \"I am a nonmangled attribute\"\n",
    "        self.__mangled_attribute = \"I am a mangled attribute\"\n",
    "\n",
    "my_object = MyClass()\n",
    "\n",
    "print(my_object._nonmangled_attribute) # Output: I am a nonmangled attribute\n",
    "print(my_object.__mangled_attribute) # Throws an AttributeError\n",
    "print(my_object._MyClass__mangled_attribute) # Output: I am a mangled attribute\n",
    "#### In the example above, the attribute _nonmangled_attribute is marked as nonmangled by convention, but can still be accessed from outside the class. The attribute __mangled_attribute is private and its name is \"mangled\" to _MyClass__mangled_attribute, so it can't be accessed directly from outside the class, but you can access it by calling _MyClass__mangled_attribute\n",
    "\n"
   ]
  },
  {
   "attachments": {},
   "cell_type": "markdown",
   "metadata": {},
   "source": [
    "# Protected Access Modifier\n",
    "#### In object-oriented programming (OOP), the term \"protected\" is used to describe a member (i.e., a method or attribute) of a class that is intended to be accessed only by the class itself and its subclasses. In Python, the convention for indicating that a member is protected is to prefix its name with a single underscore (_). For example, if a class has a method called _my_method, it is indicating that the method should only be accessed by the class itself and its subclasses.\n",
    "\n",
    "#### It's important to note that the single underscore is just a naming convention, and does not actually provide any protection or restrict access to the member. The syntax we follow to make any variable protected is to write variable name followed by a single underscore (_) ie. _varName.\n",
    "\n",
    "### Example:\n",
    "class Student:\n",
    "    def __init__(self):\n",
    "        self._name = \"Harry\"\n",
    "\n",
    "    def _funName(self):      # protected method\n",
    "        return \"CodeWithHarry\"\n",
    "\n",
    "class Subject(Student):       #inherited class\n",
    "    pass\n",
    "\n",
    "obj = Student()\n",
    "obj1 = Subject()\n",
    "\n",
    "# calling by object of Student class\n",
    "print(obj._name)      \n",
    "print(obj._funName())     \n",
    "# calling by object of Subject class\n",
    "print(obj1._name)    \n",
    "print(obj1._funName())\n",
    "Output:\n",
    "Harry\n",
    "CodeWithHarry\n",
    "\n",
    "Harry\n",
    "CodeWithHarry\n",
    "\n"
   ]
  },
  {
   "attachments": {},
   "cell_type": "markdown",
   "metadata": {},
   "source": [
    "# DAYS 68:-\n",
    "## **Exercise 7:-\n",
    "Write a program to clear the clutter inside a folder on your computer. You should use os module to rename all the png images from 1.png all the way till n.png where n is the number of png files in that folder. Do the same for other file formats. \n",
    "#### For example: sfdsf.png --> 1.png vfsf.png --> 2.png this.png --> 3.png design.png --> 4.png name.png --> 5.png"
   ]
  },
  {
   "cell_type": "code",
   "execution_count": null,
   "metadata": {},
   "outputs": [],
   "source": [
    "import os\n"
   ]
  },
  {
   "attachments": {},
   "cell_type": "markdown",
   "metadata": {},
   "source": [
    "# DAYS 68:-\n",
    "## **Python Class Methods:-**\n",
    "### Python Class Methods: An Introduction\n",
    "###### In Python, classes are a way to define custom data types that can store data and define functions that can manipulate that data. One type of function that can be defined within a class is called a \"method.\" In this blog post, we will explore what Python class methods are, why they are useful, and how to use them.\n",
    "\n",
    "### What are Python Class Methods?\n",
    "###### A class method is a type of method that is bound to the class and not the instance of the class. In other words, it operates on the class as a whole, rather than on a specific instance of the class. Class methods are defined using the \"@classmethod\" decorator, followed by a function definition. The first argument of the function is always \"cls,\" which represents the class itself.\n",
    "\n",
    "### Why Use Python Class Methods?\n",
    "###### Class methods are useful in several situations. For example, you might want to create a factory method that creates instances of your class in a specific way. You could define a class method that creates the instance and returns it to the caller. Another common use case is to provide alternative constructors for your class. This can be useful if you want to create instances of your class in multiple ways, but still have a consistent interface for doing so.\n",
    "\n",
    "### How to Use Python Class Methods\n",
    "###### To define a class method, you simply use the \"@classmethod\" decorator before the method definition. The first argument of the method should always be \"cls,\" which represents the class itself. Here is an example of how to define a class method:\n",
    "\n",
    "## **class ExampleClass:-**\n",
    "    @classmethod\n",
    "    def factory_method(cls, argument1, argument2):\n",
    "        return cls(argument1, argument2)\n",
    "In this example, the \"factory_method\" is a class method that takes two arguments, \"argument1\" and \"argument2.\" It creates a new instance of the class \"ExampleClass\" using the \"cls\" keyword, and returns the new instance to the caller.\n",
    "\n",
    "It's important to note that class methods cannot modify the class in any way. If you need to modify the class, you should use a class level variable instead.\n",
    "\n",
    "### **Conclusion:-**\n",
    "###### Python class methods are a powerful tool for defining functions that operate on the class as a whole, rather than on a specific instance of the class. They are useful for creating factory methods, alternative constructors, and other types of methods that operate at the class level. With the knowledge of how to define and use class methods, you can start writing more complex and organized code in Python."
   ]
  },
  {
   "cell_type": "code",
   "execution_count": null,
   "metadata": {},
   "outputs": [],
   "source": []
  },
  {
   "attachments": {},
   "cell_type": "markdown",
   "metadata": {},
   "source": [
    "# DAYS 72:-\n",
    "## **Super keyword in Python:-**\n",
    "#### The super() keyword in Python is used to refer to the parent class. It is especially useful when a class inherits from multiple parent classes and you want to call a method from one of the parent classes.\n",
    "\n",
    "#### When a class inherits from a parent class, it can override or extend the methods defined in the parent class. However, sometimes you might want to use the parent class method in the child class. This is where the super() keyword comes in handy.\n",
    "\n",
    "#### Here's an example of how to use the super() keyword in a simple inheritance scenario:\n",
    "\n",
    "### class ParentClass:\n",
    "#####    def parent_method(self):\n",
    "#####        print(\"This is the parent method.\")\n",
    "\n",
    "### class ChildClass(ParentClass):\n",
    "###    def child_method(self):\n",
    "###        print(\"This is the child method.\")\n",
    "###        super().parent_method()\n",
    "\n",
    "#### child_object = ChildClass()\n",
    "#### child_object.child_method()\n",
    "#### Output:\n",
    "#### This is the child method.\n",
    "#### This is the parent method.\n",
    "#### In this example, we have a ParentClass with a parent_method and a ChildClass that inherits from ParentClass and overrides the child_method. When the child_method is called, it first prints \"This is the child method.\" and then calls the parent_method using the super() keyword.\n",
    "\n",
    "#### The super() keyword is also useful when a class inherits from multiple parent classes. In this case, you can specify the parent class from which you want to call the method.\n",
    "\n",
    "#### Here's an example:\n",
    "\n",
    "#### class ParentClass1:\n",
    "    def parent_method(self):\n",
    "        print(\"This is the parent method of ParentClass1.\")\n",
    "\n",
    "#### class ParentClass2:\n",
    "    def parent_method(self):\n",
    "        print(\"This is the parent method of ParentClass2.\")\n",
    "\n",
    "#### class ChildClass(ParentClass1, ParentClass2):\n",
    "    def child_method(self):\n",
    "        print(\"This is the child method.\")\n",
    "        super().parent_method()\n",
    "\n",
    "#### child_object = ChildClass()\n",
    "#### child_object.child_method()\n",
    "Output:\n",
    "#### This is the child method.\n",
    "#### This is the parent method of ParentClass1.\n",
    "#### In this example, the ChildClass inherits from both ParentClass1 and ParentClass2. The child_method calls the parent_method of the first parent class using the super() keyword.\n",
    "\n",
    "#### In conclusion, the super() keyword is a useful tool in Python when you want to call a parent class method in a child class. It can be used in inheritance scenarios with a single parent class or multiple parent classes."
   ]
  },
  {
   "cell_type": "code",
   "execution_count": null,
   "metadata": {},
   "outputs": [],
   "source": []
  },
  {
   "attachments": {},
   "cell_type": "markdown",
   "metadata": {},
   "source": [
    "# DAYS 77:-\n",
    "## **Operator Overloading:-**\n",
    "### **Operator Overloading in Python:-** \n",
    "An Introduction\n",
    "Operator Overloading is a feature in Python that allows developers to redefine the behavior of mathematical and comparison operators for custom data types. This means that you can use the standard mathematical operators (+, -, *, /, etc.) and comparison operators (>, <, ==, etc.) in your own classes, just as you would for built-in data types like int, float, and str.\n",
    "\n",
    "## Why do we need operator overloading?\n",
    "## Operator overloading allows you to create more readable and intuitive code. For instance, consider a custom class that represents a point in 2D space. You could define a method called 'add' to add two points together, but using the + operator makes the code more concise and readable:\n",
    "\n",
    "p1 = Point(1, 2)\n",
    "p2 = Point(3, 4)\n",
    "p3 = p1 + p2\n",
    "print(p3.x, p3.y) # prints 4, 6\n",
    "### How to overload an operator in Python?\n",
    "### You can overload an operator in Python by defining special methods in your class. These methods are identified by their names, which start and end with double underscores (__). Here are some of the most commonly overloaded operators and their corresponding special methods:\n",
    "\n",
    "+ : __add__\n",
    "- : __sub__\n",
    "* : __mul__\n",
    "/ : __truediv__\n",
    "< : __lt__\n",
    "> : __gt__\n",
    "== : __eq__\n",
    "For example, if you want to overload the + operator to add two instances of a custom class, you would define the add method:\n",
    "\n",
    "## class Point:\n",
    "###    def __init__(self, x, y):\n",
    "###        self.x = x\n",
    "###        self.y = y\n",
    "\n",
    "###    def __add__(self, other):\n",
    "###        return Point(self.x + other.x, self.y + other.y)\n",
    "### It's important to note that operator overloading is not limited to the built-in operators, you can overload any user-defined operator as well.\n",
    "\n",
    "## **Conclusion:-**\n",
    "###  Operator overloading is a powerful feature in Python that allows you to create more readable and intuitive code. By redefining the behavior of mathematical and comparison operators for custom data types, you can write code that is both concise and expressive. However, it's important to use operator overloading wisely, as overloading the wrong operator or using it inappropriately can lead to confusing or unexpected behavior."
   ]
  },
  {
   "cell_type": "code",
   "execution_count": null,
   "metadata": {},
   "outputs": [],
   "source": []
  },
  {
   "attachments": {},
   "cell_type": "markdown",
   "metadata": {},
   "source": [
    "# DAYS 84:-\n",
    "## **TIME MODULE**:-\n",
    "### The time Module in Python:-\n",
    "##### The time module in Python provides a set of functions to work with time-related operations, such as timekeeping, formatting, and time conversions. This module is part of the Python Standard Library and is available in all Python installations, making it a convenient and essential tool for a wide range of applications. In this day 84 tutorial, we'll explore the time module in Python and see how it can be used in different scenarios.\n",
    "\n"
   ]
  },
  {
   "cell_type": "code",
   "execution_count": null,
   "metadata": {},
   "outputs": [],
   "source": [
    "import time\n",
    "time.sleep(1)\n",
    "time.strftime(\"%H:%M:%S\")"
   ]
  },
  {
   "attachments": {},
   "cell_type": "markdown",
   "metadata": {},
   "source": [
    "### time.time()\n",
    "##### The time.time() function returns the current time as a floating-point number, representing the number of seconds since the epoch (the point in time when the time module was initialized). The returned value is based on the computer's system clock and is affected by time adjustments made by the operating system, such as daylight saving time. Here's an example:\n",
    "\n",
    "#### import time\n",
    "\n",
    "### print(time.time())\n",
    "# Output: 1602299933.233374\n",
    "\n"
   ]
  },
  {
   "cell_type": "code",
   "execution_count": null,
   "metadata": {},
   "outputs": [],
   "source": [
    "import time \n",
    "print(time.time())"
   ]
  },
  {
   "attachments": {},
   "cell_type": "markdown",
   "metadata": {},
   "source": [
    "#### time.sleep()\n",
    "##### The time.sleep() function suspends the execution of the current thread for a specified number of seconds. This function can be used to pause the program for a certain period of time, allowing other parts of the program to run, or to synchronize the execution of multiple threads. Here's an example:\n",
    "\n"
   ]
  },
  {
   "cell_type": "code",
   "execution_count": null,
   "metadata": {},
   "outputs": [],
   "source": [
    "import time\n",
    "time.sleep(5)\n",
    "print(\"This is printed after 5 seconds\")"
   ]
  },
  {
   "attachments": {},
   "cell_type": "markdown",
   "metadata": {},
   "source": [
    "#### time.strftime()\n",
    "##### The time.strftime() function formats a time value as a string, based on a specified format. This function is particularly useful for formatting dates and times in a human-readable format, such as for display in a GUI, a log file, or a report. Here's an example:"
   ]
  },
  {
   "cell_type": "code",
   "execution_count": null,
   "metadata": {},
   "outputs": [],
   "source": [
    "import time \n",
    "t=time.strftime(\"%Y-%m-%d %H %M %S\")\n",
    "print(t)"
   ]
  },
  {
   "cell_type": "code",
   "execution_count": null,
   "metadata": {},
   "outputs": [],
   "source": [
    "import calendar\n",
    "print(calendar.month(2023,7))"
   ]
  },
  {
   "attachments": {},
   "cell_type": "markdown",
   "metadata": {},
   "source": [
    "### Conclusion:-\n",
    "##### The time module in Python provides a set of functions to work with time-related operations, such as timekeeping, formatting, and time conversions. Whether you are writing a script, a library, or an application, the time module is a powerful tool that can help you perform time-related tasks with ease and efficiency. So, if you haven't already, be sure to check out the time module in Python and see how it can help you write better, more efficient code.\n",
    "\n"
   ]
  },
  {
   "attachments": {},
   "cell_type": "markdown",
   "metadata": {},
   "source": [
    "# DASY 85:-\n",
    "## **Command line Utility:-**\n",
    "### Command line utilities are programs that can be run from the terminal or command line interface, and they are an essential part of many development workflows. In Python, you can create your own command line utilities using the built-in argparse module.\n",
    "\n"
   ]
  },
  {
   "attachments": {},
   "cell_type": "markdown",
   "metadata": {},
   "source": [
    "#### Syntax\n",
    "#### Here is the basic syntax for creating a command line utility using argparse in Python:\n",
    "\n",
    "#### import argparse\n",
    "\n",
    "#### parser = argparse.ArgumentParser()\n",
    "\n",
    "# Add command line arguments\n",
    "#### parser.add_argument(\"arg1\", help=\"description of argument 1\")\n",
    "#### parser.add_argument(\"arg2\", help=\"description of argument 2\")\n",
    "\n",
    "# Parse the arguments\n",
    "#### args = parser.parse_args()\n",
    "\n",
    "# Use the arguments in your code\n",
    "#### print(args.arg1)\n",
    "#### print(args.arg2)\n",
    "\n"
   ]
  },
  {
   "cell_type": "code",
   "execution_count": null,
   "metadata": {},
   "outputs": [],
   "source": [
    "import  argparse\n"
   ]
  },
  {
   "cell_type": "code",
   "execution_count": null,
   "metadata": {},
   "outputs": [],
   "source": []
  },
  {
   "attachments": {},
   "cell_type": "markdown",
   "metadata": {},
   "source": []
  },
  {
   "attachments": {},
   "cell_type": "markdown",
   "metadata": {},
   "source": [
    "Syntax\n",
    "Here is the basic syntax for creating a command line utility using argparse in Python:\n",
    "\n",
    "import argparse\n",
    "\n",
    "parser = argparse.ArgumentParser()\n",
    "\n",
    "# Add command line arguments\n",
    "parser.add_argument(\"arg1\", help=\"description of argument 1\")\n",
    "parser.add_argument(\"arg2\", help=\"description of argument 2\")\n",
    "\n",
    "# Parse the arguments\n",
    "args = parser.parse_args()\n",
    "\n",
    "# Use the arguments in your code\n",
    "print(args.arg1)\n",
    "print(args.arg2)\n",
    "\n"
   ]
  },
  {
   "attachments": {},
   "cell_type": "markdown",
   "metadata": {},
   "source": []
  },
  {
   "attachments": {},
   "cell_type": "markdown",
   "metadata": {},
   "source": [
    "### **Conclusion**:-\n",
    "##### Creating command line utilities in Python is a straightforward and flexible process thanks to the argparse module. With a few lines of code, you can create powerful and customizable command line tools that can make your development workflow easier and more efficient. Whether you're working on small scripts or large applications, the argparse module is a must-have tool for any Python developer.\n",
    "\n"
   ]
  },
  {
   "attachments": {},
   "cell_type": "markdown",
   "metadata": {},
   "source": [
    "# **DAYS 86:-**\n",
    "## **The Walrus Operator in Python:-**\n",
    "##### The Walrus Operator is a new addition to Python 3.8 and allows you to assign a value to a variable within an expression. This can be useful when you need to use a value multiple times in a loop, but don't want to repeat the calculation.\n",
    "\n",
    "##### The Walrus Operator is represented by the := syntax and can be used in a variety of contexts including while loops and if statements.\n",
    "\n",
    "\n"
   ]
  },
  {
   "cell_type": "code",
   "execution_count": null,
   "metadata": {},
   "outputs": [],
   "source": [
    "a=True\n",
    "print(a:=False)\n",
    "numbers=[1,2,3,45]"
   ]
  },
  {
   "attachments": {},
   "cell_type": "markdown",
   "metadata": {},
   "source": [
    "# **DAYS 87:-**\n",
    "## **Shutil Module:-**"
   ]
  },
  {
   "attachments": {},
   "cell_type": "markdown",
   "metadata": {},
   "source": []
  },
  {
   "cell_type": "code",
   "execution_count": null,
   "metadata": {},
   "outputs": [],
   "source": [
    "import shutil\n",
    "# shutil.copy(\"pt.py\",\"python course\")\n",
    "# shutil.copytree(\"\")\n",
    "# os.remove(\"python course\")\n"
   ]
  },
  {
   "attachments": {},
   "cell_type": "markdown",
   "metadata": {},
   "source": [
    "# **DAYS 89:-**\n",
    "## **Requests module in python:-** \n",
    "The Python Requests module is an HTTP library that enables developers to send HTTP requests in Python. This module enables you to send HTTP requests using Python code and makes it possible to interact with APIs and web services."
   ]
  },
  {
   "cell_type": "code",
   "execution_count": null,
   "metadata": {},
   "outputs": [],
   "source": [
    "import requests\n"
   ]
  },
  {
   "attachments": {},
   "cell_type": "markdown",
   "metadata": {},
   "source": [
    "# **Installation:-**\n",
    "pip install requests"
   ]
  },
  {
   "attachments": {},
   "cell_type": "markdown",
   "metadata": {},
   "source": [
    "# **Get Request:-**\n",
    "##### Once you have installed the Requests module, you can start using it to send HTTP requests. Here is a simple example that sends a GET request to the Google homepage:\n",
    "\n",
    "#### import requests\n",
    "#### response = requests.get(\"https://www.google.com\")\n",
    "#### print(response.text)"
   ]
  },
  {
   "cell_type": "code",
   "execution_count": null,
   "metadata": {},
   "outputs": [],
   "source": [
    "import requests\n",
    "response =requests.get(\"https://www.google.com\")\n",
    "print(response.text)"
   ]
  },
  {
   "attachments": {},
   "cell_type": "markdown",
   "metadata": {},
   "source": [
    "# **Post Request:-**\n",
    "### Here is another example that sends a POST request to a web service and includes a custom header:"
   ]
  },
  {
   "attachments": {},
   "cell_type": "markdown",
   "metadata": {},
   "source": [
    "# **🔴🔴bs4 Module:-**\n",
    "There is another module called BeautifulSoup which is used for web scraping in Python. I have personally used bs4 module to finish a lot of freelancing task."
   ]
  },
  {
   "attachments": {},
   "cell_type": "markdown",
   "metadata": {},
   "source": [
    "# **DAYS 90:-**\n",
    "## **Exercise 10:-**\n",
    "#### Use the NewsAPI and the requests module to fetch the daily news related to different topics. Go to: https://newsapi.org/ and explore the various options to build you application\n",
    "\n"
   ]
  },
  {
   "cell_type": "code",
   "execution_count": null,
   "metadata": {},
   "outputs": [],
   "source": [
    "import requests\n",
    "response=requests.get(\" https://newsapi.org/\")\n",
    "print(response.text)"
   ]
  },
  {
   "attachments": {},
   "cell_type": "markdown",
   "metadata": {},
   "source": [
    "# DASY 95:-\n",
    "##  "
   ]
  },
  {
   "attachments": {},
   "cell_type": "markdown",
   "metadata": {},
   "source": [
    "# DASY 96:-\n",
    "## **"
   ]
  },
  {
   "attachments": {},
   "cell_type": "markdown",
   "metadata": {},
   "source": [
    "# **DASY 97:-**\n",
    "## **MultiThreading in python:-**\n",
    "Multithreading is a technique in programming that allows multiple threads of execution to run concurrently within a single process. In Python, we can use the threading module to implement multithreading. In this tutorial, we will take a closer look at the threading module and its various functions and how they can be used in Python."
   ]
  },
  {
   "attachments": {},
   "cell_type": "markdown",
   "metadata": {},
   "source": [
    "## **Importing Threading:-**\n",
    "We can use threading by importing the threading module.\n",
    "\n",
    "## **import threading**"
   ]
  },
  {
   "cell_type": "code",
   "execution_count": null,
   "metadata": {},
   "outputs": [],
   "source": [
    "# normal code \n",
    "import time\n",
    "def func(seconds):\n",
    "    print(f\"sleeping for {seconds} second\")\n",
    "    time.sleep(seconds)\n",
    "    \n",
    "func(4)\n",
    "func(3)\n",
    "func(2)"
   ]
  },
  {
   "cell_type": "code",
   "execution_count": null,
   "metadata": {},
   "outputs": [],
   "source": [
    "import threading\n",
    "import time\n",
    "def func(seconds):\n",
    "    print(f\"time taken {seconds} second\")\n",
    "    time.sleep(seconds)\n",
    "t1=threading.Thread(target=func,args=[4])\n",
    "t2=threading.Thread(target=func,args=[3])\n",
    "t3=threading.Thread(target=func,args=[2])\n",
    "t1.start()\n",
    "t2.start()\n",
    "t3.start()\n"
   ]
  },
  {
   "attachments": {},
   "cell_type": "markdown",
   "metadata": {},
   "source": [
    "## **Creating a thread:-**\n",
    "To create a thread, we need to create a Thread object and then call its start() method. The start() method runs the thread and then to stop the execution, we use the join() method. Here's how we can create a simple thread."
   ]
  },
  {
   "cell_type": "code",
   "execution_count": null,
   "metadata": {},
   "outputs": [],
   "source": []
  },
  {
   "attachments": {},
   "cell_type": "markdown",
   "metadata": {},
   "source": [
    "## **Functions**\n",
    "The following are some of the most commonly used functions in the threading module:\n",
    "\n",
    "#### 🔴threading.Thread(target, args): This function creates a new thread that runs the target function with the specified arguments.\n",
    "\n",
    "#### 🔴threading.Lock(): This function creates a lock that can be used to synchronize access to shared resources between threads.\n",
    "\n",
    "## **Creating multiple threads:-**\n",
    "Creating multiple threads is a common approach to using multithreading in Python. The idea is to create a pool of worker threads and then assign tasks to them as needed. This allows you to take advantage of multiple CPU cores and process tasks in parallel.\n",
    "\n",
    "\n"
   ]
  },
  {
   "cell_type": "code",
   "execution_count": null,
   "metadata": {},
   "outputs": [],
   "source": [
    "import threading\n",
    "import time\n",
    "def func(seconds):\n",
    "    print(f\"time taken {seconds} second\")\n",
    "    time.sleep(seconds)\n",
    "    \n",
    "t1=threading.Thread(target=func,args=[4])\n",
    "t2=threading.Thread(target=func,args=[3])\n",
    "t3=threading.Thread(target=func,args=[2])\n",
    "t1.start()\n",
    "t2.start()\n",
    "t3.start()\n",
    "t1.join()\n",
    "t2.join()\n",
    "t3.join()\n",
    "time2=time.perf_counter()\n",
    "time1=time.perf_counter()\n",
    "print((time2-time1))"
   ]
  },
  {
   "attachments": {},
   "cell_type": "markdown",
   "metadata": {},
   "source": [
    "### Using a lock to synchronize access to shared resources\n",
    "### When working with multithreading in python, locks can be used to synchronize access to shared resources among multiple threads. A lock is an object that acts as a semaphore, allowing only one thread at a time to execute a critical section of code. The lock is released when the thread finishes executing the critical section.\n",
    "\n"
   ]
  },
  {
   "cell_type": "code",
   "execution_count": null,
   "metadata": {},
   "outputs": [],
   "source": [
    "import threading\n",
    "import time\n",
    "from concurrent.futures import ThreadPoolExecutor\n",
    "def func(seconds):\n",
    "    print(f\"time taken {seconds} second\")\n",
    "    time.sleep(seconds)\n",
    "def main():  \n",
    "    t1=threading.Thread(target=func,args=[4])\n",
    "    t2=threading.Thread(target=func,args=[3])\n",
    "    t3=threading.Thread(target=func,args=[2])\n",
    "    t1.start()\n",
    "    t2.start()\n",
    "    t3.start()\n",
    "    t1.join()\n",
    "    t2.join()\n",
    "    t3.join()\n",
    "    time2=time.perf_counter()\n",
    "    time1=time.perf_counter()\n",
    "    print((time2-time1))\n",
    "def poolingDemo():\n",
    "    with ThreadPoolExecutor() as executor:\n",
    "        future=executor.submit(func,3)\n",
    "        print(future.result())\n",
    "        future=executor.submit(func,2)\n",
    "        print(future.result())\n",
    "        future=executor.submit(func,1)\n",
    "        print(future.result())\n",
    "        \n",
    "poolingDemo()"
   ]
  },
  {
   "attachments": {},
   "cell_type": "markdown",
   "metadata": {},
   "source": [
    "## **Conclusion:-**\n",
    "### As you can see, the threading module provides a simple and efficient way to implement multithreading in Python. Whether you need to create a new thread, run a function across multiple input values, or synchronize access to shared resources, the threading module has you covered.\n",
    "\n",
    "### In conclusion, the threading module is a powerful tool for parallelizing code in Python. Whether you are a beginner or an experienced Python developer, the threading module is an essential tool to have in your toolbox. With multithreading, you can take advantage of multiple CPU cores and significantly improve the performance of your code."
   ]
  },
  {
   "attachments": {},
   "cell_type": "markdown",
   "metadata": {},
   "source": [
    "# **DASY 98:-**\n",
    "## **Multiprocessing in Python:-**\n",
    "Multiprocessing is a Python module that provides a simple way to run multiple processes in parallel. It allows you to take advantage of multiple cores or processors on your system and can significantly improve the performance of your code. In this repl, we'll take a closer look at the multiprocessing module and its various functions and how they can be used in Python."
   ]
  },
  {
   "cell_type": "code",
   "execution_count": null,
   "metadata": {},
   "outputs": [],
   "source": [
    "import multiprocessing\n",
    "import requests\n",
    "\n",
    "\n",
    "def downloadFile(url,name):\n",
    "    response=requests.get(url)\n",
    "    open(f\"{name}.jpg\",\"wb\").write(response.content)\n",
    "    \n",
    "    \n",
    "    \n",
    "url= \"http://picsum.photos/200/300\"\n",
    "for i in range(5):\n",
    "    downloadFile(url,i)\n",
    "    p=multiprocessing.process(target=downloadFile,args=[url,i])\n",
    "    p.start()\n",
    "    pros.append(p)"
   ]
  },
  {
   "attachments": {},
   "cell_type": "markdown",
   "metadata": {},
   "source": [
    "## Importing Multiprocessing\n",
    "### We can use multiprocessing by importing the multiprocessing module.\n",
    "\n",
    "### import multiprocessing\n",
    "##### Now, to use multiprocessing we need to create a process object which calls a start() method. The start() method runs the process and then to stop the execution, we use the join() method. Here's how we can create a simple process.\n",
    "\n"
   ]
  },
  {
   "attachments": {},
   "cell_type": "markdown",
   "metadata": {},
   "source": [
    "### **Functions:-**\n",
    "#### The following are some of the most commonly used functions in the multiprocessing module:\n",
    "\n",
    "#### 🔴multiprocessing.Process(target, args): This function creates a new process that runs the target function with the specified arguments.\n",
    "\n",
    "#### 🔴multiprocessing.Pool(processes): This function creates a pool of worker processes that can be used to parallelize the execution of a function across multiple input values.\n",
    "\n",
    "#### 🔴multiprocessing.Queue(): This function creates a queue that can be used to communicate data between processes.\n",
    "\n",
    "####  🔴multiprocessing.Lock(): This function creates a lock that can be used to synchronize access to shared resources between processes.\n",
    "\n",
    "## Creating a pool of worker processes\n",
    "Creating a pool of worker processes is a common approach to using multiprocessing in Python. The idea is to create a pool of worker processes and then assign tasks to them as needed. This allows you to take advantage of multiple CPU cores and process tasks in parallel."
   ]
  },
  {
   "cell_type": "code",
   "execution_count": null,
   "metadata": {},
   "outputs": [],
   "source": [
    "import multiprocessing\n",
    "import requests\n",
    "import concurrent.futures\n",
    "\n",
    "\n",
    "def downloadFile(url,name):\n",
    "    response=requests.get(url)\n",
    "    open(f\"{name}.jpg\",\"wb\").write(response.content)\n",
    "    \n",
    "    \n",
    "    \n",
    "url= \"http://picsum.photos/200/300\"\n",
    "for i in range(5):\n",
    "    downloadFile(url,i)\n",
    "    p=multiprocessing.process(target=downloadFile,args=[url,i])\n",
    "    p.start()\n",
    "    pros.append(p)\n",
    "with concurrent.futures.processPoolExecutor:\n",
    "    for number,prime in zip(PRIME ,executor.map(is_prime,PRIMES)):\n",
    "        print(\"%d is prime: %s\" %(number ,prime))"
   ]
  },
  {
   "attachments": {},
   "cell_type": "markdown",
   "metadata": {},
   "source": [
    "# **DAYS 99:-**\n",
    "## **Exercise 11:-**\n",
    "### "
   ]
  },
  {
   "cell_type": "code",
   "execution_count": null,
   "metadata": {},
   "outputs": [],
   "source": [
    "import os \n",
    "commond=\"osascript -e \\ 'say \\\"Hey Abhishek drink water\\\"\\'; osascript -e \\'display alert \\\"Hey Abhishek drink water\\\"\\'\"\n",
    "os.system(commond)"
   ]
  },
  {
   "cell_type": "code",
   "execution_count": null,
   "metadata": {},
   "outputs": [],
   "source": []
  }
 ],
 "metadata": {
  "kernelspec": {
   "display_name": "Python 3",
   "language": "python",
   "name": "python3"
  },
  "language_info": {
   "codemirror_mode": {
    "name": "ipython",
    "version": 3
   },
   "file_extension": ".py",
   "mimetype": "text/x-python",
   "name": "python",
   "nbconvert_exporter": "python",
   "pygments_lexer": "ipython3",
   "version": "3.11.5"
  },
  "orig_nbformat": 4,
  "vscode": {
   "interpreter": {
    "hash": "1bfef84b44c01e14205b619b1d329f33c33083627caf201966915db5126747d2"
   }
  }
 },
 "nbformat": 4,
 "nbformat_minor": 2
}
